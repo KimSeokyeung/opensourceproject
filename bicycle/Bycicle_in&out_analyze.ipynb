{
 "cells": [
  {
   "cell_type": "code",
   "execution_count": 1,
   "metadata": {},
   "outputs": [],
   "source": [
    "import requests\n",
    "from bs4 import BeautifulSoup\n",
    "import json\n",
    "from pprint import pprint\n",
    "import numpy as np\n",
    "import pandas as pd"
   ]
  },
  {
   "cell_type": "code",
   "execution_count": 2,
   "metadata": {
    "scrolled": true
   },
   "outputs": [],
   "source": [
    "res = requests.get('http://openapi.seoul.go.kr:8088/5058644a58646c733132324e64486957/json/bikeList/1/1000/')\n",
    "data = json.loads(res.content)\n",
    "df_1 = pd.DataFrame.from_dict(data['rentBikeStatus']['row'])\n",
    "\n",
    "\n",
    "res_2 = requests.get('http://openapi.seoul.go.kr:8088/5058644a58646c733132324e64486957/json/bikeList/1001/2000')\n",
    "data_2 = json.loads(res_2.content)\n",
    "df_2 = pd.DataFrame.from_dict(data_2['rentBikeStatus']['row'])\n",
    "\n",
    "\n",
    "fin_data = pd.concat([df_1, df_2],ignore_index=True)"
   ]
  },
  {
   "cell_type": "code",
   "execution_count": 3,
   "metadata": {},
   "outputs": [],
   "source": [
    "fin_data['station_No']=fin_data['stationName'].apply(lambda e: e.split('.')[0])\n",
    "fin_data['station_Name']=fin_data['stationName'].apply(lambda e: e.split('.')[1])"
   ]
  },
  {
   "cell_type": "code",
   "execution_count": 4,
   "metadata": {
    "scrolled": true
   },
   "outputs": [],
   "source": [
    "fin_data = fin_data.drop(columns=['stationName'])"
   ]
  },
  {
   "cell_type": "code",
   "execution_count": 5,
   "metadata": {},
   "outputs": [],
   "source": [
    "arr = pd.read_csv('using_No.csv',names = [\"station_No\"])"
   ]
  },
  {
   "cell_type": "code",
   "execution_count": 6,
   "metadata": {
    "scrolled": true
   },
   "outputs": [],
   "source": [
    "arr['station_No'] = arr['station_No'].astype(str)"
   ]
  },
  {
   "cell_type": "code",
   "execution_count": 7,
   "metadata": {
    "scrolled": true
   },
   "outputs": [],
   "source": [
    "fin_data = fin_data[fin_data[\"station_No\"].isin(arr['station_No'])]\n",
    "fin_data = fin_data.reset_index(drop=True)"
   ]
  },
  {
   "cell_type": "code",
   "execution_count": 8,
   "metadata": {},
   "outputs": [],
   "source": [
    "dt_in = pd.read_csv(\"data_in.csv\")\n",
    "dt_out = pd.read_csv(\"data_out.csv\")"
   ]
  },
  {
   "cell_type": "code",
   "execution_count": 9,
   "metadata": {
    "scrolled": true
   },
   "outputs": [],
   "source": [
    "data = pd.merge(dt_in, dt_out, on='station_id')"
   ]
  },
  {
   "cell_type": "code",
   "execution_count": 10,
   "metadata": {},
   "outputs": [],
   "source": [
    "outcome_1=pd.merge(fin_data, data, how='outer', left_index=True, right_index=True)"
   ]
  },
  {
   "cell_type": "code",
   "execution_count": 11,
   "metadata": {
    "scrolled": true
   },
   "outputs": [],
   "source": [
    "outcome_1 = outcome_1.drop(columns=['station_id'])"
   ]
  },
  {
   "cell_type": "code",
   "execution_count": 12,
   "metadata": {
    "scrolled": true
   },
   "outputs": [],
   "source": [
    "dt = pd.read_csv('공공자전거 대여소 정보_201905.csv', engine='python')"
   ]
  },
  {
   "cell_type": "code",
   "execution_count": 13,
   "metadata": {
    "scrolled": true
   },
   "outputs": [],
   "source": [
    "dt= dt[dt[\"대여소번호\"].isin(arr['station_No'])]\n",
    "dt = dt.reset_index(drop=True)\n",
    "dt = dt.drop(columns=['대여소명', '위도', '경도','거치대수'])"
   ]
  },
  {
   "cell_type": "code",
   "execution_count": 14,
   "metadata": {
    "scrolled": true
   },
   "outputs": [],
   "source": [
    "cols = dt.columns.tolist()\n",
    "\n",
    "cols = cols[-1:] + cols[:-1]\n",
    "\n",
    "cols\n",
    "\n",
    "dt = dt[cols]"
   ]
  },
  {
   "cell_type": "code",
   "execution_count": 15,
   "metadata": {
    "scrolled": true
   },
   "outputs": [],
   "source": [
    "final_out = pd.concat([dt, outcome_1], axis=1)\n",
    "final_out = final_out.drop(columns='station_No')\n",
    "final_out = final_out.rename(columns={'대여소번호':'station_Num'})"
   ]
  },
  {
   "cell_type": "code",
   "execution_count": 16,
   "metadata": {},
   "outputs": [],
   "source": [
    "station_flag = final_out['station_Name'].str.contains(\"역 \")\n",
    "final_out['station_flag'] = station_flag"
   ]
  },
  {
   "cell_type": "code",
   "execution_count": 17,
   "metadata": {
    "scrolled": true
   },
   "outputs": [],
   "source": [
    "searchfor = ['학교', '대 ']\n",
    "school_flag = final_out['station_Name'].str.contains('|'.join(searchfor))\n",
    "final_out['school_flag'] = school_flag"
   ]
  },
  {
   "cell_type": "code",
   "execution_count": 18,
   "metadata": {},
   "outputs": [],
   "source": [
    "final_out.to_csv('final_out.csv',encoding='utf-8-sig',index=False)"
   ]
  }
 ],
 "metadata": {
  "kernelspec": {
   "display_name": "Python 3",
   "language": "python",
   "name": "python3"
  },
  "language_info": {
   "codemirror_mode": {
    "name": "ipython",
    "version": 3
   },
   "file_extension": ".py",
   "mimetype": "text/x-python",
   "name": "python",
   "nbconvert_exporter": "python",
   "pygments_lexer": "ipython3",
   "version": "3.6.5"
  }
 },
 "nbformat": 4,
 "nbformat_minor": 2
}
