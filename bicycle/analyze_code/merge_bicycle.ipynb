{
 "cells": [
  {
   "cell_type": "code",
   "execution_count": 1,
   "metadata": {},
   "outputs": [],
   "source": [
    "import requests\n",
    "from bs4 import BeautifulSoup\n",
    "import json\n",
    "from pprint import pprint\n",
    "import numpy as np\n",
    "import pandas as pd"
   ]
  },
  {
   "cell_type": "code",
   "execution_count": 2,
   "metadata": {},
   "outputs": [],
   "source": [
    "res = requests.get('http://openapi.seoul.go.kr:8088/5058644a58646c733132324e64486957/json/bikeList/1/1000/')\n",
    "data = json.loads(res.content)\n",
    "df_1 = pd.DataFrame.from_dict(data['rentBikeStatus']['row'])\n",
    "\n",
    "\n",
    "res_2 = requests.get('http://openapi.seoul.go.kr:8088/5058644a58646c733132324e64486957/json/bikeList/1001/2000')\n",
    "data_2 = json.loads(res_2.content)\n",
    "df_2 = pd.DataFrame.from_dict(data_2['rentBikeStatus']['row'])\n",
    "\n",
    "\n",
    "fin_data = pd.concat([df_1, df_2],ignore_index=True)"
   ]
  },
  {
   "cell_type": "code",
   "execution_count": 3,
   "metadata": {},
   "outputs": [],
   "source": [
    "df_use = pd.read_csv('using_No.csv', engine='python', encoding='utf-8-sig', names=['station_No'])"
   ]
  },
  {
   "cell_type": "code",
   "execution_count": 4,
   "metadata": {},
   "outputs": [],
   "source": [
    "colnames=['자전거번호', '대여일시', '대여대여소번호', '대여대여소명', '거치대순번', '반납일시', '반납대여소번호',\n",
    "       '반납대여소명', '반납거치대순번', '이용시간', '이용거리']"
   ]
  },
  {
   "cell_type": "code",
   "execution_count": 5,
   "metadata": {
    "scrolled": true
   },
   "outputs": [],
   "source": [
    "df_01   = pd.read_csv(\"서울특별시 공공자전거 대여정보_201901.csv\", engine='python')       # 2019_1_1 ~ 2018_1_31\n",
    "df_02   = pd.read_csv(\"서울특별시 공공자전거 대여정보_201902.csv\", engine='python')       # 2019_2_1 ~ 2018_2_28\n",
    "df_03   = pd.read_csv(\"서울특별시 공공자전거 대여정보_201903.csv\", engine='python')       # 2019_3_1 ~ 2018_3_31\n",
    "df_04   = pd.read_csv(\"서울특별시 공공자전거 대여정보_201904.csv\", names=colnames, engine='python')       # 2019_4_1 ~ 2019_4_30\n",
    "df_05   = pd.read_csv(\"서울특별시 공공자전거 대여정보_201905.csv\", names=colnames, engine='python')       # 2019_5_1 ~ 2019_5_31"
   ]
  },
  {
   "cell_type": "code",
   "execution_count": 6,
   "metadata": {
    "scrolled": true
   },
   "outputs": [],
   "source": [
    "df_123 = pd.concat([df_01, df_02, df_03])"
   ]
  },
  {
   "cell_type": "code",
   "execution_count": 7,
   "metadata": {
    "scrolled": true
   },
   "outputs": [],
   "source": [
    "df_123 = df_123.drop(df_123.columns[[0,3,4,7,8,9,10]], axis=1)\n",
    "df_123.rename(columns={'대여소번호':'대여대여소번호', '대여소번호.1':'반납대여소번호'}, inplace=True)"
   ]
  },
  {
   "cell_type": "code",
   "execution_count": 8,
   "metadata": {
    "scrolled": true
   },
   "outputs": [],
   "source": [
    "# df_123['반납대여소명'] = df_123['반납대여소명']+'.'\n",
    "# df_123['대여대여소명'] = df_123['대여대여소명']+'.'\n",
    "# df_123['반납대여소명'] = df_123['반납대여소명'].apply(lambda e: e.split('.')[1])\n",
    "# df_123['대여대여소명'] = df_123['대여대여소명'].apply(lambda e: e.split('.')[1])"
   ]
  },
  {
   "cell_type": "code",
   "execution_count": 9,
   "metadata": {},
   "outputs": [],
   "source": [
    "df_45 = pd.concat([df_04, df_05])\n",
    "df_45 = df_45.drop(df_45.columns[[0,3,4,7,8,9,10]], axis=1)"
   ]
  },
  {
   "cell_type": "code",
   "execution_count": 10,
   "metadata": {},
   "outputs": [
    {
     "data": {
      "text/html": [
       "<div>\n",
       "<style scoped>\n",
       "    .dataframe tbody tr th:only-of-type {\n",
       "        vertical-align: middle;\n",
       "    }\n",
       "\n",
       "    .dataframe tbody tr th {\n",
       "        vertical-align: top;\n",
       "    }\n",
       "\n",
       "    .dataframe thead th {\n",
       "        text-align: right;\n",
       "    }\n",
       "</style>\n",
       "<table border=\"1\" class=\"dataframe\">\n",
       "  <thead>\n",
       "    <tr style=\"text-align: right;\">\n",
       "      <th></th>\n",
       "      <th>대여일시</th>\n",
       "      <th>대여대여소번호</th>\n",
       "      <th>반납일시</th>\n",
       "      <th>반납대여소번호</th>\n",
       "    </tr>\n",
       "  </thead>\n",
       "  <tbody>\n",
       "    <tr>\n",
       "      <th>0</th>\n",
       "      <td>2019-01-01 00:02:16</td>\n",
       "      <td>1408</td>\n",
       "      <td>2019-01-01 00:07:07</td>\n",
       "      <td>1433</td>\n",
       "    </tr>\n",
       "    <tr>\n",
       "      <th>1</th>\n",
       "      <td>2019-01-01 00:03:09</td>\n",
       "      <td>615</td>\n",
       "      <td>2019-01-01 00:07:27</td>\n",
       "      <td>612</td>\n",
       "    </tr>\n",
       "    <tr>\n",
       "      <th>2</th>\n",
       "      <td>2019-01-01 00:01:44</td>\n",
       "      <td>1177</td>\n",
       "      <td>2019-01-01 00:08:09</td>\n",
       "      <td>1152</td>\n",
       "    </tr>\n",
       "    <tr>\n",
       "      <th>3</th>\n",
       "      <td>2019-01-01 00:02:28</td>\n",
       "      <td>646</td>\n",
       "      <td>2019-01-01 00:08:30</td>\n",
       "      <td>648</td>\n",
       "    </tr>\n",
       "    <tr>\n",
       "      <th>4</th>\n",
       "      <td>2019-01-01 00:04:14</td>\n",
       "      <td>2273</td>\n",
       "      <td>2019-01-01 00:08:54</td>\n",
       "      <td>2255</td>\n",
       "    </tr>\n",
       "  </tbody>\n",
       "</table>\n",
       "</div>"
      ],
      "text/plain": [
       "                  대여일시  대여대여소번호                 반납일시  반납대여소번호\n",
       "0  2019-01-01 00:02:16     1408  2019-01-01 00:07:07     1433\n",
       "1  2019-01-01 00:03:09      615  2019-01-01 00:07:27      612\n",
       "2  2019-01-01 00:01:44     1177  2019-01-01 00:08:09     1152\n",
       "3  2019-01-01 00:02:28      646  2019-01-01 00:08:30      648\n",
       "4  2019-01-01 00:04:14     2273  2019-01-01 00:08:54     2255"
      ]
     },
     "execution_count": 10,
     "metadata": {},
     "output_type": "execute_result"
    }
   ],
   "source": [
    "df = pd.concat([df_123, df_45])\n",
    "df.head()"
   ]
  },
  {
   "cell_type": "code",
   "execution_count": 11,
   "metadata": {
    "scrolled": true
   },
   "outputs": [
    {
     "data": {
      "text/html": [
       "<div>\n",
       "<style scoped>\n",
       "    .dataframe tbody tr th:only-of-type {\n",
       "        vertical-align: middle;\n",
       "    }\n",
       "\n",
       "    .dataframe tbody tr th {\n",
       "        vertical-align: top;\n",
       "    }\n",
       "\n",
       "    .dataframe thead th {\n",
       "        text-align: right;\n",
       "    }\n",
       "</style>\n",
       "<table border=\"1\" class=\"dataframe\">\n",
       "  <thead>\n",
       "    <tr style=\"text-align: right;\">\n",
       "      <th></th>\n",
       "      <th>parkingBikeTotCnt</th>\n",
       "      <th>rackTotCnt</th>\n",
       "      <th>shared</th>\n",
       "      <th>stationId</th>\n",
       "      <th>stationLatitude</th>\n",
       "      <th>stationLongitude</th>\n",
       "      <th>station_No</th>\n",
       "      <th>station_Name</th>\n",
       "    </tr>\n",
       "  </thead>\n",
       "  <tbody>\n",
       "    <tr>\n",
       "      <th>0</th>\n",
       "      <td>0</td>\n",
       "      <td>5</td>\n",
       "      <td>0</td>\n",
       "      <td>ST-3</td>\n",
       "      <td>37.54956055</td>\n",
       "      <td>126.90575409</td>\n",
       "      <td>101</td>\n",
       "      <td>(구)합정동 주민센터</td>\n",
       "    </tr>\n",
       "    <tr>\n",
       "      <th>1</th>\n",
       "      <td>10</td>\n",
       "      <td>20</td>\n",
       "      <td>50</td>\n",
       "      <td>ST-4</td>\n",
       "      <td>37.55564880</td>\n",
       "      <td>126.91062927</td>\n",
       "      <td>102</td>\n",
       "      <td>망원역 1번출구 앞</td>\n",
       "    </tr>\n",
       "    <tr>\n",
       "      <th>2</th>\n",
       "      <td>10</td>\n",
       "      <td>14</td>\n",
       "      <td>71</td>\n",
       "      <td>ST-5</td>\n",
       "      <td>37.55495071</td>\n",
       "      <td>126.91083527</td>\n",
       "      <td>103</td>\n",
       "      <td>망원역 2번출구 앞</td>\n",
       "    </tr>\n",
       "  </tbody>\n",
       "</table>\n",
       "</div>"
      ],
      "text/plain": [
       "  parkingBikeTotCnt rackTotCnt shared stationId stationLatitude  \\\n",
       "0                 0          5      0      ST-3     37.54956055   \n",
       "1                10         20     50      ST-4     37.55564880   \n",
       "2                10         14     71      ST-5     37.55495071   \n",
       "\n",
       "  stationLongitude station_No  station_Name  \n",
       "0     126.90575409        101   (구)합정동 주민센터  \n",
       "1     126.91062927        102    망원역 1번출구 앞  \n",
       "2     126.91083527        103    망원역 2번출구 앞  "
      ]
     },
     "execution_count": 11,
     "metadata": {},
     "output_type": "execute_result"
    }
   ],
   "source": [
    "fin_data['station_No']=fin_data['stationName'].apply(lambda e: e.split('.')[0])\n",
    "fin_data['station_Name']=fin_data['stationName'].apply(lambda e: e.split('.')[1])\n",
    "fin_data = fin_data.drop(columns=['stationName'])\n",
    "fin_data[:3]"
   ]
  },
  {
   "cell_type": "code",
   "execution_count": 12,
   "metadata": {},
   "outputs": [],
   "source": [
    "arr = fin_data['station_No']\n",
    "\n",
    "none_data =[]\n",
    "\n",
    "for strarr in arr:\n",
    "    if (df[df['대여대여소번호']==int(strarr)].shape[0]==0):\n",
    "        none_data.append(strarr)\n",
    "        \n",
    "fin_data1 = fin_data[~fin_data[\"station_No\"].isin(none_data)]\n",
    "fin_data1 = fin_data1.reset_index(drop=True)"
   ]
  },
  {
   "cell_type": "code",
   "execution_count": 13,
   "metadata": {},
   "outputs": [],
   "source": [
    "arr = fin_data['station_No']\n",
    "\n",
    "none_data =[]\n",
    "\n",
    "for strarr in arr:\n",
    "    if (df[df['반납대여소번호']==int(strarr)].shape[0]==0):\n",
    "        none_data.append(strarr)\n",
    "        \n",
    "fin_data2 = fin_data[~fin_data[\"station_No\"].isin(none_data)]\n",
    "fin_data2 = fin_data2.reset_index(drop=True)"
   ]
  },
  {
   "cell_type": "code",
   "execution_count": 14,
   "metadata": {
    "scrolled": true
   },
   "outputs": [
    {
     "name": "stderr",
     "output_type": "stream",
     "text": [
      "C:\\Users\\LEEJUNGEUN\\Anaconda3\\lib\\site-packages\\pandas\\core\\frame.py:3781: SettingWithCopyWarning: \n",
      "A value is trying to be set on a copy of a slice from a DataFrame\n",
      "\n",
      "See the caveats in the documentation: http://pandas.pydata.org/pandas-docs/stable/indexing.html#indexing-view-versus-copy\n",
      "  return super(DataFrame, self).rename(**kwargs)\n"
     ]
    }
   ],
   "source": [
    "fin_slice1 = fin_data1[['stationLatitude', 'stationLongitude', 'station_No']]\n",
    "fin_slice1.rename(columns={'station_No': '대여대여소번호', 'stationLatitude':'대여위도','stationLongitude':'대여경도'}, inplace=True)"
   ]
  },
  {
   "cell_type": "code",
   "execution_count": 15,
   "metadata": {},
   "outputs": [],
   "source": [
    "df['대여대여소번호'] = df['대여대여소번호'].astype(str)\n",
    "df['반납대여소번호'] = df['반납대여소번호'].astype(str)"
   ]
  },
  {
   "cell_type": "code",
   "execution_count": 17,
   "metadata": {},
   "outputs": [],
   "source": [
    "df_merge = pd.merge(fin_slice1, df)"
   ]
  },
  {
   "cell_type": "code",
   "execution_count": 18,
   "metadata": {
    "scrolled": true
   },
   "outputs": [
    {
     "data": {
      "text/html": [
       "<div>\n",
       "<style scoped>\n",
       "    .dataframe tbody tr th:only-of-type {\n",
       "        vertical-align: middle;\n",
       "    }\n",
       "\n",
       "    .dataframe tbody tr th {\n",
       "        vertical-align: top;\n",
       "    }\n",
       "\n",
       "    .dataframe thead th {\n",
       "        text-align: right;\n",
       "    }\n",
       "</style>\n",
       "<table border=\"1\" class=\"dataframe\">\n",
       "  <thead>\n",
       "    <tr style=\"text-align: right;\">\n",
       "      <th></th>\n",
       "      <th>대여위도</th>\n",
       "      <th>대여경도</th>\n",
       "      <th>대여대여소번호</th>\n",
       "      <th>대여일시</th>\n",
       "      <th>반납일시</th>\n",
       "      <th>반납대여소번호</th>\n",
       "    </tr>\n",
       "  </thead>\n",
       "  <tbody>\n",
       "    <tr>\n",
       "      <th>0</th>\n",
       "      <td>37.54956055</td>\n",
       "      <td>126.90575409</td>\n",
       "      <td>101</td>\n",
       "      <td>2019-01-01 08:29:11</td>\n",
       "      <td>2019-01-01 08:34:57</td>\n",
       "      <td>151</td>\n",
       "    </tr>\n",
       "    <tr>\n",
       "      <th>1</th>\n",
       "      <td>37.54956055</td>\n",
       "      <td>126.90575409</td>\n",
       "      <td>101</td>\n",
       "      <td>2019-01-01 14:11:50</td>\n",
       "      <td>2019-01-01 14:17:24</td>\n",
       "      <td>106</td>\n",
       "    </tr>\n",
       "    <tr>\n",
       "      <th>2</th>\n",
       "      <td>37.54956055</td>\n",
       "      <td>126.90575409</td>\n",
       "      <td>101</td>\n",
       "      <td>2019-01-02 06:54:05</td>\n",
       "      <td>2019-01-02 07:02:12</td>\n",
       "      <td>152</td>\n",
       "    </tr>\n",
       "    <tr>\n",
       "      <th>3</th>\n",
       "      <td>37.54956055</td>\n",
       "      <td>126.90575409</td>\n",
       "      <td>101</td>\n",
       "      <td>2019-01-02 07:23:10</td>\n",
       "      <td>2019-01-02 07:30:27</td>\n",
       "      <td>104</td>\n",
       "    </tr>\n",
       "    <tr>\n",
       "      <th>4</th>\n",
       "      <td>37.54956055</td>\n",
       "      <td>126.90575409</td>\n",
       "      <td>101</td>\n",
       "      <td>2019-01-02 08:50:51</td>\n",
       "      <td>2019-01-02 08:57:21</td>\n",
       "      <td>105</td>\n",
       "    </tr>\n",
       "  </tbody>\n",
       "</table>\n",
       "</div>"
      ],
      "text/plain": [
       "          대여위도          대여경도 대여대여소번호                 대여일시  \\\n",
       "0  37.54956055  126.90575409     101  2019-01-01 08:29:11   \n",
       "1  37.54956055  126.90575409     101  2019-01-01 14:11:50   \n",
       "2  37.54956055  126.90575409     101  2019-01-02 06:54:05   \n",
       "3  37.54956055  126.90575409     101  2019-01-02 07:23:10   \n",
       "4  37.54956055  126.90575409     101  2019-01-02 08:50:51   \n",
       "\n",
       "                  반납일시 반납대여소번호  \n",
       "0  2019-01-01 08:34:57     151  \n",
       "1  2019-01-01 14:17:24     106  \n",
       "2  2019-01-02 07:02:12     152  \n",
       "3  2019-01-02 07:30:27     104  \n",
       "4  2019-01-02 08:57:21     105  "
      ]
     },
     "execution_count": 18,
     "metadata": {},
     "output_type": "execute_result"
    }
   ],
   "source": [
    "df_merge.head()"
   ]
  },
  {
   "cell_type": "code",
   "execution_count": 20,
   "metadata": {},
   "outputs": [],
   "source": [
    "fin_slice2 = fin_data2[['stationLatitude', 'stationLongitude', 'station_No']]\n",
    "fin_slice2.rename(columns={'station_No': '반납대여소번호','stationLatitude':'반납위도','stationLongitude':'반납경도'}, inplace=True)"
   ]
  },
  {
   "cell_type": "code",
   "execution_count": 21,
   "metadata": {},
   "outputs": [],
   "source": [
    "df_merge = pd.merge(fin_slice2, df_merge)"
   ]
  },
  {
   "cell_type": "code",
   "execution_count": 22,
   "metadata": {
    "scrolled": true
   },
   "outputs": [
    {
     "data": {
      "text/html": [
       "<div>\n",
       "<style scoped>\n",
       "    .dataframe tbody tr th:only-of-type {\n",
       "        vertical-align: middle;\n",
       "    }\n",
       "\n",
       "    .dataframe tbody tr th {\n",
       "        vertical-align: top;\n",
       "    }\n",
       "\n",
       "    .dataframe thead th {\n",
       "        text-align: right;\n",
       "    }\n",
       "</style>\n",
       "<table border=\"1\" class=\"dataframe\">\n",
       "  <thead>\n",
       "    <tr style=\"text-align: right;\">\n",
       "      <th></th>\n",
       "      <th>반납위도</th>\n",
       "      <th>반납경도</th>\n",
       "      <th>반납대여소번호</th>\n",
       "      <th>대여위도</th>\n",
       "      <th>대여경도</th>\n",
       "      <th>대여대여소번호</th>\n",
       "      <th>대여일시</th>\n",
       "      <th>반납일시</th>\n",
       "    </tr>\n",
       "  </thead>\n",
       "  <tbody>\n",
       "    <tr>\n",
       "      <th>0</th>\n",
       "      <td>37.54956055</td>\n",
       "      <td>126.90575409</td>\n",
       "      <td>101</td>\n",
       "      <td>37.54956055</td>\n",
       "      <td>126.90575409</td>\n",
       "      <td>101</td>\n",
       "      <td>2019-01-03 09:57:31</td>\n",
       "      <td>2019-01-03 10:11:35</td>\n",
       "    </tr>\n",
       "    <tr>\n",
       "      <th>1</th>\n",
       "      <td>37.54956055</td>\n",
       "      <td>126.90575409</td>\n",
       "      <td>101</td>\n",
       "      <td>37.54956055</td>\n",
       "      <td>126.90575409</td>\n",
       "      <td>101</td>\n",
       "      <td>2019-01-04 14:00:53</td>\n",
       "      <td>2019-01-04 14:06:32</td>\n",
       "    </tr>\n",
       "    <tr>\n",
       "      <th>2</th>\n",
       "      <td>37.54956055</td>\n",
       "      <td>126.90575409</td>\n",
       "      <td>101</td>\n",
       "      <td>37.54956055</td>\n",
       "      <td>126.90575409</td>\n",
       "      <td>101</td>\n",
       "      <td>2019-01-04 18:29:43</td>\n",
       "      <td>2019-01-04 19:15:47</td>\n",
       "    </tr>\n",
       "    <tr>\n",
       "      <th>3</th>\n",
       "      <td>37.54956055</td>\n",
       "      <td>126.90575409</td>\n",
       "      <td>101</td>\n",
       "      <td>37.54956055</td>\n",
       "      <td>126.90575409</td>\n",
       "      <td>101</td>\n",
       "      <td>2019-01-06 14:12:34</td>\n",
       "      <td>2019-01-06 14:59:50</td>\n",
       "    </tr>\n",
       "    <tr>\n",
       "      <th>4</th>\n",
       "      <td>37.54956055</td>\n",
       "      <td>126.90575409</td>\n",
       "      <td>101</td>\n",
       "      <td>37.54956055</td>\n",
       "      <td>126.90575409</td>\n",
       "      <td>101</td>\n",
       "      <td>2019-01-07 19:35:34</td>\n",
       "      <td>2019-01-07 20:08:06</td>\n",
       "    </tr>\n",
       "  </tbody>\n",
       "</table>\n",
       "</div>"
      ],
      "text/plain": [
       "          반납위도          반납경도 반납대여소번호         대여위도          대여경도 대여대여소번호  \\\n",
       "0  37.54956055  126.90575409     101  37.54956055  126.90575409     101   \n",
       "1  37.54956055  126.90575409     101  37.54956055  126.90575409     101   \n",
       "2  37.54956055  126.90575409     101  37.54956055  126.90575409     101   \n",
       "3  37.54956055  126.90575409     101  37.54956055  126.90575409     101   \n",
       "4  37.54956055  126.90575409     101  37.54956055  126.90575409     101   \n",
       "\n",
       "                  대여일시                 반납일시  \n",
       "0  2019-01-03 09:57:31  2019-01-03 10:11:35  \n",
       "1  2019-01-04 14:00:53  2019-01-04 14:06:32  \n",
       "2  2019-01-04 18:29:43  2019-01-04 19:15:47  \n",
       "3  2019-01-06 14:12:34  2019-01-06 14:59:50  \n",
       "4  2019-01-07 19:35:34  2019-01-07 20:08:06  "
      ]
     },
     "execution_count": 22,
     "metadata": {},
     "output_type": "execute_result"
    }
   ],
   "source": [
    "df_merge.head()"
   ]
  },
  {
   "cell_type": "code",
   "execution_count": 28,
   "metadata": {},
   "outputs": [],
   "source": [
    "df_merge.to_csv('df_bicycle.csv',encoding='utf-8-sig',index=False)"
   ]
  },
  {
   "cell_type": "code",
   "execution_count": null,
   "metadata": {},
   "outputs": [],
   "source": []
  }
 ],
 "metadata": {
  "kernelspec": {
   "display_name": "Python 3",
   "language": "python",
   "name": "python3"
  },
  "language_info": {
   "codemirror_mode": {
    "name": "ipython",
    "version": 3
   },
   "file_extension": ".py",
   "mimetype": "text/x-python",
   "name": "python",
   "nbconvert_exporter": "python",
   "pygments_lexer": "ipython3",
   "version": "3.7.1"
  }
 },
 "nbformat": 4,
 "nbformat_minor": 2
}
