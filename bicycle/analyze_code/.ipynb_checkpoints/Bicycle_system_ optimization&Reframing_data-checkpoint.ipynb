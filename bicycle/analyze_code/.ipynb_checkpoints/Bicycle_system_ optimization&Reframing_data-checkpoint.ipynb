{
 "cells": [
  {
   "cell_type": "code",
   "execution_count": 1,
   "metadata": {},
   "outputs": [],
   "source": [
    "import requests\n",
    "from bs4 import BeautifulSoup\n",
    "import json\n",
    "from pprint import pprint\n",
    "import numpy as np\n",
    "import pandas as pd"
   ]
  },
  {
   "cell_type": "code",
   "execution_count": 2,
   "metadata": {
    "scrolled": true
   },
   "outputs": [],
   "source": [
    "res = requests.get('http://openapi.seoul.go.kr:8088/5058644a58646c733132324e64486957/json/bikeList/1/1000/')\n",
    "data = json.loads(res.content)\n",
    "df_1 = pd.DataFrame.from_dict(data['rentBikeStatus']['row'])\n",
    "\n",
    "\n",
    "res_2 = requests.get('http://openapi.seoul.go.kr:8088/5058644a58646c733132324e64486957/json/bikeList/1001/2000')\n",
    "data_2 = json.loads(res_2.content)\n",
    "df_2 = pd.DataFrame.from_dict(data_2['rentBikeStatus']['row'])\n",
    "\n",
    "\n",
    "fin_data = pd.concat([df_1, df_2],ignore_index=True)"
   ]
  },
  {
   "cell_type": "code",
   "execution_count": 3,
   "metadata": {},
   "outputs": [],
   "source": [
    "fin_data['station_No']=fin_data['stationName'].apply(lambda e: e.split('.')[0])\n",
    "fin_data['station_Name']=fin_data['stationName'].apply(lambda e: e.split('.')[1])"
   ]
  },
  {
   "cell_type": "code",
   "execution_count": 4,
   "metadata": {
    "scrolled": true
   },
   "outputs": [],
   "source": [
    "fin_data = fin_data.drop(columns=['stationName']).copy()\n",
    "fin_data = fin_data.drop(columns=['stationId']).copy()"
   ]
  },
  {
   "cell_type": "code",
   "execution_count": 5,
   "metadata": {
    "scrolled": true
   },
   "outputs": [
    {
     "data": {
      "text/html": [
       "<div>\n",
       "<style scoped>\n",
       "    .dataframe tbody tr th:only-of-type {\n",
       "        vertical-align: middle;\n",
       "    }\n",
       "\n",
       "    .dataframe tbody tr th {\n",
       "        vertical-align: top;\n",
       "    }\n",
       "\n",
       "    .dataframe thead th {\n",
       "        text-align: right;\n",
       "    }\n",
       "</style>\n",
       "<table border=\"1\" class=\"dataframe\">\n",
       "  <thead>\n",
       "    <tr style=\"text-align: right;\">\n",
       "      <th></th>\n",
       "      <th>parkingBikeTotCnt</th>\n",
       "      <th>rackTotCnt</th>\n",
       "      <th>shared</th>\n",
       "      <th>stationLatitude</th>\n",
       "      <th>stationLongitude</th>\n",
       "      <th>station_No</th>\n",
       "      <th>station_Name</th>\n",
       "    </tr>\n",
       "  </thead>\n",
       "  <tbody>\n",
       "    <tr>\n",
       "      <th>0</th>\n",
       "      <td>2</td>\n",
       "      <td>5</td>\n",
       "      <td>40</td>\n",
       "      <td>37.54956055</td>\n",
       "      <td>126.90575409</td>\n",
       "      <td>101</td>\n",
       "      <td>(구)합정동 주민센터</td>\n",
       "    </tr>\n",
       "    <tr>\n",
       "      <th>1</th>\n",
       "      <td>19</td>\n",
       "      <td>20</td>\n",
       "      <td>95</td>\n",
       "      <td>37.55564880</td>\n",
       "      <td>126.91062927</td>\n",
       "      <td>102</td>\n",
       "      <td>망원역 1번출구 앞</td>\n",
       "    </tr>\n",
       "    <tr>\n",
       "      <th>2</th>\n",
       "      <td>3</td>\n",
       "      <td>14</td>\n",
       "      <td>21</td>\n",
       "      <td>37.55495071</td>\n",
       "      <td>126.91083527</td>\n",
       "      <td>103</td>\n",
       "      <td>망원역 2번출구 앞</td>\n",
       "    </tr>\n",
       "    <tr>\n",
       "      <th>3</th>\n",
       "      <td>1</td>\n",
       "      <td>13</td>\n",
       "      <td>8</td>\n",
       "      <td>37.55062866</td>\n",
       "      <td>126.91498566</td>\n",
       "      <td>104</td>\n",
       "      <td>합정역 1번출구 앞</td>\n",
       "    </tr>\n",
       "    <tr>\n",
       "      <th>4</th>\n",
       "      <td>0</td>\n",
       "      <td>5</td>\n",
       "      <td>0</td>\n",
       "      <td>37.55000687</td>\n",
       "      <td>126.91482544</td>\n",
       "      <td>105</td>\n",
       "      <td>합정역 5번출구 앞</td>\n",
       "    </tr>\n",
       "    <tr>\n",
       "      <th>5</th>\n",
       "      <td>1</td>\n",
       "      <td>10</td>\n",
       "      <td>10</td>\n",
       "      <td>37.54864502</td>\n",
       "      <td>126.91282654</td>\n",
       "      <td>106</td>\n",
       "      <td>합정역 7번출구 앞</td>\n",
       "    </tr>\n",
       "    <tr>\n",
       "      <th>6</th>\n",
       "      <td>4</td>\n",
       "      <td>5</td>\n",
       "      <td>80</td>\n",
       "      <td>37.55751038</td>\n",
       "      <td>126.91850281</td>\n",
       "      <td>107</td>\n",
       "      <td>신한은행 서교동금융센터점 앞</td>\n",
       "    </tr>\n",
       "    <tr>\n",
       "      <th>7</th>\n",
       "      <td>5</td>\n",
       "      <td>10</td>\n",
       "      <td>50</td>\n",
       "      <td>37.55274582</td>\n",
       "      <td>126.91861725</td>\n",
       "      <td>108</td>\n",
       "      <td>서교동 사거리</td>\n",
       "    </tr>\n",
       "    <tr>\n",
       "      <th>8</th>\n",
       "      <td>2</td>\n",
       "      <td>10</td>\n",
       "      <td>20</td>\n",
       "      <td>37.54769135</td>\n",
       "      <td>126.91998291</td>\n",
       "      <td>109</td>\n",
       "      <td>제일빌딩 앞</td>\n",
       "    </tr>\n",
       "    <tr>\n",
       "      <th>9</th>\n",
       "      <td>3</td>\n",
       "      <td>20</td>\n",
       "      <td>15</td>\n",
       "      <td>37.56819916</td>\n",
       "      <td>126.91784668</td>\n",
       "      <td>110</td>\n",
       "      <td>사천교</td>\n",
       "    </tr>\n",
       "    <tr>\n",
       "      <th>10</th>\n",
       "      <td>0</td>\n",
       "      <td>10</td>\n",
       "      <td>0</td>\n",
       "      <td>37.54787064</td>\n",
       "      <td>126.92353058</td>\n",
       "      <td>111</td>\n",
       "      <td>상수역 2번출구 앞</td>\n",
       "    </tr>\n",
       "    <tr>\n",
       "      <th>11</th>\n",
       "      <td>1</td>\n",
       "      <td>10</td>\n",
       "      <td>10</td>\n",
       "      <td>37.54920197</td>\n",
       "      <td>126.92320251</td>\n",
       "      <td>112</td>\n",
       "      <td>극동방송국 앞</td>\n",
       "    </tr>\n",
       "    <tr>\n",
       "      <th>12</th>\n",
       "      <td>7</td>\n",
       "      <td>25</td>\n",
       "      <td>28</td>\n",
       "      <td>37.55749893</td>\n",
       "      <td>126.92380524</td>\n",
       "      <td>113</td>\n",
       "      <td>홍대입구역 2번출구 앞</td>\n",
       "    </tr>\n",
       "    <tr>\n",
       "      <th>13</th>\n",
       "      <td>2</td>\n",
       "      <td>15</td>\n",
       "      <td>13</td>\n",
       "      <td>37.55706024</td>\n",
       "      <td>126.92442322</td>\n",
       "      <td>114</td>\n",
       "      <td>홍대입구역 8번출구 앞</td>\n",
       "    </tr>\n",
       "    <tr>\n",
       "      <th>14</th>\n",
       "      <td>2</td>\n",
       "      <td>15</td>\n",
       "      <td>13</td>\n",
       "      <td>37.55893326</td>\n",
       "      <td>126.92711639</td>\n",
       "      <td>115</td>\n",
       "      <td>사루비아 빌딩 앞</td>\n",
       "    </tr>\n",
       "    <tr>\n",
       "      <th>15</th>\n",
       "      <td>5</td>\n",
       "      <td>5</td>\n",
       "      <td>100</td>\n",
       "      <td>37.56454086</td>\n",
       "      <td>126.92707062</td>\n",
       "      <td>116</td>\n",
       "      <td>일진아이윌아파트 옆</td>\n",
       "    </tr>\n",
       "    <tr>\n",
       "      <th>16</th>\n",
       "      <td>5</td>\n",
       "      <td>25</td>\n",
       "      <td>20</td>\n",
       "      <td>37.59115982</td>\n",
       "      <td>126.94132996</td>\n",
       "      <td>117</td>\n",
       "      <td>홍은사거리</td>\n",
       "    </tr>\n",
       "    <tr>\n",
       "      <th>17</th>\n",
       "      <td>8</td>\n",
       "      <td>10</td>\n",
       "      <td>80</td>\n",
       "      <td>37.54773331</td>\n",
       "      <td>126.93176270</td>\n",
       "      <td>118</td>\n",
       "      <td>광흥창역 2번출구 앞</td>\n",
       "    </tr>\n",
       "    <tr>\n",
       "      <th>18</th>\n",
       "      <td>9</td>\n",
       "      <td>10</td>\n",
       "      <td>90</td>\n",
       "      <td>37.54528427</td>\n",
       "      <td>126.93105316</td>\n",
       "      <td>119</td>\n",
       "      <td>서강나루 공원</td>\n",
       "    </tr>\n",
       "    <tr>\n",
       "      <th>19</th>\n",
       "      <td>4</td>\n",
       "      <td>5</td>\n",
       "      <td>80</td>\n",
       "      <td>37.54524231</td>\n",
       "      <td>126.93411255</td>\n",
       "      <td>120</td>\n",
       "      <td>신수동 사거리</td>\n",
       "    </tr>\n",
       "    <tr>\n",
       "      <th>20</th>\n",
       "      <td>9</td>\n",
       "      <td>15</td>\n",
       "      <td>60</td>\n",
       "      <td>37.54976654</td>\n",
       "      <td>126.93317413</td>\n",
       "      <td>121</td>\n",
       "      <td>마포소방서 앞</td>\n",
       "    </tr>\n",
       "    <tr>\n",
       "      <th>21</th>\n",
       "      <td>9</td>\n",
       "      <td>10</td>\n",
       "      <td>90</td>\n",
       "      <td>37.54745865</td>\n",
       "      <td>126.93837738</td>\n",
       "      <td>122</td>\n",
       "      <td>신성기사식당 앞</td>\n",
       "    </tr>\n",
       "    <tr>\n",
       "      <th>22</th>\n",
       "      <td>17</td>\n",
       "      <td>20</td>\n",
       "      <td>85</td>\n",
       "      <td>37.59432983</td>\n",
       "      <td>126.94738770</td>\n",
       "      <td>123</td>\n",
       "      <td>문화촌 공원</td>\n",
       "    </tr>\n",
       "    <tr>\n",
       "      <th>23</th>\n",
       "      <td>16</td>\n",
       "      <td>20</td>\n",
       "      <td>80</td>\n",
       "      <td>37.55113983</td>\n",
       "      <td>126.93698883</td>\n",
       "      <td>124</td>\n",
       "      <td>서강대 정문 건너편</td>\n",
       "    </tr>\n",
       "    <tr>\n",
       "      <th>24</th>\n",
       "      <td>14</td>\n",
       "      <td>20</td>\n",
       "      <td>70</td>\n",
       "      <td>37.55041122</td>\n",
       "      <td>126.94384766</td>\n",
       "      <td>126</td>\n",
       "      <td>서강대 후문 옆</td>\n",
       "    </tr>\n",
       "    <tr>\n",
       "      <th>25</th>\n",
       "      <td>5</td>\n",
       "      <td>15</td>\n",
       "      <td>33</td>\n",
       "      <td>37.55352020</td>\n",
       "      <td>126.93695068</td>\n",
       "      <td>127</td>\n",
       "      <td>현대벤처빌 앞</td>\n",
       "    </tr>\n",
       "    <tr>\n",
       "      <th>26</th>\n",
       "      <td>2</td>\n",
       "      <td>20</td>\n",
       "      <td>10</td>\n",
       "      <td>37.55549622</td>\n",
       "      <td>126.93634033</td>\n",
       "      <td>128</td>\n",
       "      <td>신촌역(2호선) 1번출구 옆</td>\n",
       "    </tr>\n",
       "    <tr>\n",
       "      <th>27</th>\n",
       "      <td>6</td>\n",
       "      <td>15</td>\n",
       "      <td>40</td>\n",
       "      <td>37.55505371</td>\n",
       "      <td>126.93756866</td>\n",
       "      <td>129</td>\n",
       "      <td>신촌역(2호선) 6번출구 옆</td>\n",
       "    </tr>\n",
       "    <tr>\n",
       "      <th>28</th>\n",
       "      <td>2</td>\n",
       "      <td>10</td>\n",
       "      <td>20</td>\n",
       "      <td>37.55485916</td>\n",
       "      <td>126.93615723</td>\n",
       "      <td>130</td>\n",
       "      <td>신촌역(2호선) 7번출구 앞</td>\n",
       "    </tr>\n",
       "    <tr>\n",
       "      <th>29</th>\n",
       "      <td>2</td>\n",
       "      <td>23</td>\n",
       "      <td>9</td>\n",
       "      <td>37.58417130</td>\n",
       "      <td>126.91110229</td>\n",
       "      <td>131</td>\n",
       "      <td>증산2교</td>\n",
       "    </tr>\n",
       "    <tr>\n",
       "      <th>...</th>\n",
       "      <td>...</td>\n",
       "      <td>...</td>\n",
       "      <td>...</td>\n",
       "      <td>...</td>\n",
       "      <td>...</td>\n",
       "      <td>...</td>\n",
       "      <td>...</td>\n",
       "    </tr>\n",
       "    <tr>\n",
       "      <th>1496</th>\n",
       "      <td>2</td>\n",
       "      <td>10</td>\n",
       "      <td>20</td>\n",
       "      <td>37.56864929</td>\n",
       "      <td>127.08625031</td>\n",
       "      <td>3510</td>\n",
       "      <td>중곡SK아파트앞</td>\n",
       "    </tr>\n",
       "    <tr>\n",
       "      <th>1497</th>\n",
       "      <td>8</td>\n",
       "      <td>10</td>\n",
       "      <td>80</td>\n",
       "      <td>37.55125046</td>\n",
       "      <td>127.03510284</td>\n",
       "      <td>3511</td>\n",
       "      <td>응봉역 1번출구</td>\n",
       "    </tr>\n",
       "    <tr>\n",
       "      <th>1498</th>\n",
       "      <td>8</td>\n",
       "      <td>10</td>\n",
       "      <td>80</td>\n",
       "      <td>37.56460953</td>\n",
       "      <td>127.02919769</td>\n",
       "      <td>3513</td>\n",
       "      <td>상왕십리역 1번출구</td>\n",
       "    </tr>\n",
       "    <tr>\n",
       "      <th>1499</th>\n",
       "      <td>2</td>\n",
       "      <td>10</td>\n",
       "      <td>20</td>\n",
       "      <td>37.56626129</td>\n",
       "      <td>127.02369690</td>\n",
       "      <td>3514</td>\n",
       "      <td>왕십리교회옆</td>\n",
       "    </tr>\n",
       "    <tr>\n",
       "      <th>1500</th>\n",
       "      <td>12</td>\n",
       "      <td>20</td>\n",
       "      <td>60</td>\n",
       "      <td>37.54281616</td>\n",
       "      <td>127.04208374</td>\n",
       "      <td>3515</td>\n",
       "      <td>서울숲 관리사무소</td>\n",
       "    </tr>\n",
       "    <tr>\n",
       "      <th>1501</th>\n",
       "      <td>4</td>\n",
       "      <td>10</td>\n",
       "      <td>40</td>\n",
       "      <td>37.54370499</td>\n",
       "      <td>127.09324646</td>\n",
       "      <td>3516</td>\n",
       "      <td>구의아리수정수센터앞</td>\n",
       "    </tr>\n",
       "    <tr>\n",
       "      <th>1502</th>\n",
       "      <td>1</td>\n",
       "      <td>10</td>\n",
       "      <td>10</td>\n",
       "      <td>37.56252670</td>\n",
       "      <td>127.08227539</td>\n",
       "      <td>3517</td>\n",
       "      <td>용마사거리</td>\n",
       "    </tr>\n",
       "    <tr>\n",
       "      <th>1503</th>\n",
       "      <td>7</td>\n",
       "      <td>8</td>\n",
       "      <td>88</td>\n",
       "      <td>37.55686188</td>\n",
       "      <td>127.07913971</td>\n",
       "      <td>3518</td>\n",
       "      <td>군자역 7번출구뒤</td>\n",
       "    </tr>\n",
       "    <tr>\n",
       "      <th>1504</th>\n",
       "      <td>6</td>\n",
       "      <td>10</td>\n",
       "      <td>60</td>\n",
       "      <td>37.56260681</td>\n",
       "      <td>127.05130768</td>\n",
       "      <td>3519</td>\n",
       "      <td>용답역 1번 출구</td>\n",
       "    </tr>\n",
       "    <tr>\n",
       "      <th>1505</th>\n",
       "      <td>3</td>\n",
       "      <td>10</td>\n",
       "      <td>30</td>\n",
       "      <td>37.54251862</td>\n",
       "      <td>127.08408356</td>\n",
       "      <td>3520</td>\n",
       "      <td>광진경찰서</td>\n",
       "    </tr>\n",
       "    <tr>\n",
       "      <th>1506</th>\n",
       "      <td>1</td>\n",
       "      <td>10</td>\n",
       "      <td>10</td>\n",
       "      <td>37.54342651</td>\n",
       "      <td>127.09661865</td>\n",
       "      <td>3521</td>\n",
       "      <td>현대홈타운 뒷길</td>\n",
       "    </tr>\n",
       "    <tr>\n",
       "      <th>1507</th>\n",
       "      <td>1</td>\n",
       "      <td>9</td>\n",
       "      <td>11</td>\n",
       "      <td>37.56124496</td>\n",
       "      <td>127.04885101</td>\n",
       "      <td>3522</td>\n",
       "      <td>사근삼거리</td>\n",
       "    </tr>\n",
       "    <tr>\n",
       "      <th>1508</th>\n",
       "      <td>5</td>\n",
       "      <td>10</td>\n",
       "      <td>50</td>\n",
       "      <td>37.54171753</td>\n",
       "      <td>127.08016968</td>\n",
       "      <td>3523</td>\n",
       "      <td>건국대학교 과학관(이과대) 앞</td>\n",
       "    </tr>\n",
       "    <tr>\n",
       "      <th>1509</th>\n",
       "      <td>1</td>\n",
       "      <td>15</td>\n",
       "      <td>7</td>\n",
       "      <td>37.55023575</td>\n",
       "      <td>127.07382202</td>\n",
       "      <td>3524</td>\n",
       "      <td>세종대학교</td>\n",
       "    </tr>\n",
       "    <tr>\n",
       "      <th>1510</th>\n",
       "      <td>11</td>\n",
       "      <td>15</td>\n",
       "      <td>73</td>\n",
       "      <td>37.54608917</td>\n",
       "      <td>127.02507019</td>\n",
       "      <td>3525</td>\n",
       "      <td>금호스포츠센터앞</td>\n",
       "    </tr>\n",
       "    <tr>\n",
       "      <th>1511</th>\n",
       "      <td>0</td>\n",
       "      <td>8</td>\n",
       "      <td>0</td>\n",
       "      <td>37.56179047</td>\n",
       "      <td>127.02439117</td>\n",
       "      <td>3527</td>\n",
       "      <td>왕십리 자이아파트</td>\n",
       "    </tr>\n",
       "    <tr>\n",
       "      <th>1512</th>\n",
       "      <td>5</td>\n",
       "      <td>8</td>\n",
       "      <td>63</td>\n",
       "      <td>37.55059814</td>\n",
       "      <td>127.11051178</td>\n",
       "      <td>3528</td>\n",
       "      <td>광진정보도서관</td>\n",
       "    </tr>\n",
       "    <tr>\n",
       "      <th>1513</th>\n",
       "      <td>9</td>\n",
       "      <td>15</td>\n",
       "      <td>60</td>\n",
       "      <td>37.54978943</td>\n",
       "      <td>127.07592773</td>\n",
       "      <td>3529</td>\n",
       "      <td>어린이대공원정문</td>\n",
       "    </tr>\n",
       "    <tr>\n",
       "      <th>1514</th>\n",
       "      <td>15</td>\n",
       "      <td>15</td>\n",
       "      <td>100</td>\n",
       "      <td>37.56014633</td>\n",
       "      <td>127.02635956</td>\n",
       "      <td>3530</td>\n",
       "      <td>왕십리자이아파트 후문(삼거리)</td>\n",
       "    </tr>\n",
       "    <tr>\n",
       "      <th>1515</th>\n",
       "      <td>14</td>\n",
       "      <td>15</td>\n",
       "      <td>93</td>\n",
       "      <td>37.55477905</td>\n",
       "      <td>127.02484131</td>\n",
       "      <td>3531</td>\n",
       "      <td>논골사거리(금호도서관 입구)</td>\n",
       "    </tr>\n",
       "    <tr>\n",
       "      <th>1516</th>\n",
       "      <td>1</td>\n",
       "      <td>15</td>\n",
       "      <td>7</td>\n",
       "      <td>37.56068039</td>\n",
       "      <td>127.02677917</td>\n",
       "      <td>3532</td>\n",
       "      <td>왕십리KCC스위첸아파트</td>\n",
       "    </tr>\n",
       "    <tr>\n",
       "      <th>1517</th>\n",
       "      <td>9</td>\n",
       "      <td>10</td>\n",
       "      <td>90</td>\n",
       "      <td>37.53913879</td>\n",
       "      <td>127.07061768</td>\n",
       "      <td>3533</td>\n",
       "      <td>건대입구역 사거리(롯데백화점)</td>\n",
       "    </tr>\n",
       "    <tr>\n",
       "      <th>1518</th>\n",
       "      <td>5</td>\n",
       "      <td>12</td>\n",
       "      <td>42</td>\n",
       "      <td>37.54013824</td>\n",
       "      <td>127.06928253</td>\n",
       "      <td>3534</td>\n",
       "      <td>건대입구역 5번출구 뒤</td>\n",
       "    </tr>\n",
       "    <tr>\n",
       "      <th>1519</th>\n",
       "      <td>8</td>\n",
       "      <td>10</td>\n",
       "      <td>80</td>\n",
       "      <td>37.55915833</td>\n",
       "      <td>127.08751678</td>\n",
       "      <td>3535</td>\n",
       "      <td>중곡사거리(국민은행)</td>\n",
       "    </tr>\n",
       "    <tr>\n",
       "      <th>1520</th>\n",
       "      <td>4</td>\n",
       "      <td>10</td>\n",
       "      <td>40</td>\n",
       "      <td>37.53181076</td>\n",
       "      <td>127.08074188</td>\n",
       "      <td>3536</td>\n",
       "      <td>중앙농협(자양동)</td>\n",
       "    </tr>\n",
       "    <tr>\n",
       "      <th>1521</th>\n",
       "      <td>0</td>\n",
       "      <td>15</td>\n",
       "      <td>0</td>\n",
       "      <td>37.54848862</td>\n",
       "      <td>127.09375763</td>\n",
       "      <td>3537</td>\n",
       "      <td>아차산 휴먼시아 아파트 옆</td>\n",
       "    </tr>\n",
       "    <tr>\n",
       "      <th>1522</th>\n",
       "      <td>4</td>\n",
       "      <td>14</td>\n",
       "      <td>29</td>\n",
       "      <td>37.55089188</td>\n",
       "      <td>127.04476166</td>\n",
       "      <td>3538</td>\n",
       "      <td>서울숲 IT캐슬</td>\n",
       "    </tr>\n",
       "    <tr>\n",
       "      <th>1523</th>\n",
       "      <td>5</td>\n",
       "      <td>10</td>\n",
       "      <td>50</td>\n",
       "      <td>37.56379318</td>\n",
       "      <td>127.13283539</td>\n",
       "      <td>3539</td>\n",
       "      <td>서원마을</td>\n",
       "    </tr>\n",
       "    <tr>\n",
       "      <th>1524</th>\n",
       "      <td>10</td>\n",
       "      <td>20</td>\n",
       "      <td>50</td>\n",
       "      <td>37.54124832</td>\n",
       "      <td>127.06604004</td>\n",
       "      <td>3541</td>\n",
       "      <td>커먼그라운드</td>\n",
       "    </tr>\n",
       "    <tr>\n",
       "      <th>1525</th>\n",
       "      <td>6</td>\n",
       "      <td>17</td>\n",
       "      <td>35</td>\n",
       "      <td>37.54504013</td>\n",
       "      <td>127.08995819</td>\n",
       "      <td>3542</td>\n",
       "      <td>래미안 구의파크 스위트</td>\n",
       "    </tr>\n",
       "  </tbody>\n",
       "</table>\n",
       "<p>1526 rows × 7 columns</p>\n",
       "</div>"
      ],
      "text/plain": [
       "     parkingBikeTotCnt rackTotCnt shared stationLatitude stationLongitude  \\\n",
       "0                    2          5     40     37.54956055     126.90575409   \n",
       "1                   19         20     95     37.55564880     126.91062927   \n",
       "2                    3         14     21     37.55495071     126.91083527   \n",
       "3                    1         13      8     37.55062866     126.91498566   \n",
       "4                    0          5      0     37.55000687     126.91482544   \n",
       "5                    1         10     10     37.54864502     126.91282654   \n",
       "6                    4          5     80     37.55751038     126.91850281   \n",
       "7                    5         10     50     37.55274582     126.91861725   \n",
       "8                    2         10     20     37.54769135     126.91998291   \n",
       "9                    3         20     15     37.56819916     126.91784668   \n",
       "10                   0         10      0     37.54787064     126.92353058   \n",
       "11                   1         10     10     37.54920197     126.92320251   \n",
       "12                   7         25     28     37.55749893     126.92380524   \n",
       "13                   2         15     13     37.55706024     126.92442322   \n",
       "14                   2         15     13     37.55893326     126.92711639   \n",
       "15                   5          5    100     37.56454086     126.92707062   \n",
       "16                   5         25     20     37.59115982     126.94132996   \n",
       "17                   8         10     80     37.54773331     126.93176270   \n",
       "18                   9         10     90     37.54528427     126.93105316   \n",
       "19                   4          5     80     37.54524231     126.93411255   \n",
       "20                   9         15     60     37.54976654     126.93317413   \n",
       "21                   9         10     90     37.54745865     126.93837738   \n",
       "22                  17         20     85     37.59432983     126.94738770   \n",
       "23                  16         20     80     37.55113983     126.93698883   \n",
       "24                  14         20     70     37.55041122     126.94384766   \n",
       "25                   5         15     33     37.55352020     126.93695068   \n",
       "26                   2         20     10     37.55549622     126.93634033   \n",
       "27                   6         15     40     37.55505371     126.93756866   \n",
       "28                   2         10     20     37.55485916     126.93615723   \n",
       "29                   2         23      9     37.58417130     126.91110229   \n",
       "...                ...        ...    ...             ...              ...   \n",
       "1496                 2         10     20     37.56864929     127.08625031   \n",
       "1497                 8         10     80     37.55125046     127.03510284   \n",
       "1498                 8         10     80     37.56460953     127.02919769   \n",
       "1499                 2         10     20     37.56626129     127.02369690   \n",
       "1500                12         20     60     37.54281616     127.04208374   \n",
       "1501                 4         10     40     37.54370499     127.09324646   \n",
       "1502                 1         10     10     37.56252670     127.08227539   \n",
       "1503                 7          8     88     37.55686188     127.07913971   \n",
       "1504                 6         10     60     37.56260681     127.05130768   \n",
       "1505                 3         10     30     37.54251862     127.08408356   \n",
       "1506                 1         10     10     37.54342651     127.09661865   \n",
       "1507                 1          9     11     37.56124496     127.04885101   \n",
       "1508                 5         10     50     37.54171753     127.08016968   \n",
       "1509                 1         15      7     37.55023575     127.07382202   \n",
       "1510                11         15     73     37.54608917     127.02507019   \n",
       "1511                 0          8      0     37.56179047     127.02439117   \n",
       "1512                 5          8     63     37.55059814     127.11051178   \n",
       "1513                 9         15     60     37.54978943     127.07592773   \n",
       "1514                15         15    100     37.56014633     127.02635956   \n",
       "1515                14         15     93     37.55477905     127.02484131   \n",
       "1516                 1         15      7     37.56068039     127.02677917   \n",
       "1517                 9         10     90     37.53913879     127.07061768   \n",
       "1518                 5         12     42     37.54013824     127.06928253   \n",
       "1519                 8         10     80     37.55915833     127.08751678   \n",
       "1520                 4         10     40     37.53181076     127.08074188   \n",
       "1521                 0         15      0     37.54848862     127.09375763   \n",
       "1522                 4         14     29     37.55089188     127.04476166   \n",
       "1523                 5         10     50     37.56379318     127.13283539   \n",
       "1524                10         20     50     37.54124832     127.06604004   \n",
       "1525                 6         17     35     37.54504013     127.08995819   \n",
       "\n",
       "     station_No       station_Name  \n",
       "0           101        (구)합정동 주민센터  \n",
       "1           102         망원역 1번출구 앞  \n",
       "2           103         망원역 2번출구 앞  \n",
       "3           104         합정역 1번출구 앞  \n",
       "4           105         합정역 5번출구 앞  \n",
       "5           106         합정역 7번출구 앞  \n",
       "6           107    신한은행 서교동금융센터점 앞  \n",
       "7           108            서교동 사거리  \n",
       "8           109             제일빌딩 앞  \n",
       "9           110                사천교  \n",
       "10          111         상수역 2번출구 앞  \n",
       "11          112            극동방송국 앞  \n",
       "12          113       홍대입구역 2번출구 앞  \n",
       "13          114       홍대입구역 8번출구 앞  \n",
       "14          115          사루비아 빌딩 앞  \n",
       "15          116         일진아이윌아파트 옆  \n",
       "16          117              홍은사거리  \n",
       "17          118        광흥창역 2번출구 앞  \n",
       "18          119            서강나루 공원  \n",
       "19          120            신수동 사거리  \n",
       "20          121            마포소방서 앞  \n",
       "21          122           신성기사식당 앞  \n",
       "22          123             문화촌 공원  \n",
       "23          124         서강대 정문 건너편  \n",
       "24          126           서강대 후문 옆  \n",
       "25          127            현대벤처빌 앞  \n",
       "26          128    신촌역(2호선) 1번출구 옆  \n",
       "27          129    신촌역(2호선) 6번출구 옆  \n",
       "28          130    신촌역(2호선) 7번출구 앞  \n",
       "29          131               증산2교  \n",
       "...         ...                ...  \n",
       "1496       3510           중곡SK아파트앞  \n",
       "1497       3511           응봉역 1번출구  \n",
       "1498       3513         상왕십리역 1번출구  \n",
       "1499       3514             왕십리교회옆  \n",
       "1500       3515          서울숲 관리사무소  \n",
       "1501       3516         구의아리수정수센터앞  \n",
       "1502       3517              용마사거리  \n",
       "1503       3518          군자역 7번출구뒤  \n",
       "1504       3519          용답역 1번 출구  \n",
       "1505       3520              광진경찰서  \n",
       "1506       3521           현대홈타운 뒷길  \n",
       "1507       3522              사근삼거리  \n",
       "1508       3523   건국대학교 과학관(이과대) 앞  \n",
       "1509       3524              세종대학교  \n",
       "1510       3525           금호스포츠센터앞  \n",
       "1511       3527          왕십리 자이아파트  \n",
       "1512       3528            광진정보도서관  \n",
       "1513       3529           어린이대공원정문  \n",
       "1514       3530   왕십리자이아파트 후문(삼거리)  \n",
       "1515       3531    논골사거리(금호도서관 입구)  \n",
       "1516       3532       왕십리KCC스위첸아파트  \n",
       "1517       3533   건대입구역 사거리(롯데백화점)  \n",
       "1518       3534       건대입구역 5번출구 뒤  \n",
       "1519       3535        중곡사거리(국민은행)  \n",
       "1520       3536          중앙농협(자양동)  \n",
       "1521       3537     아차산 휴먼시아 아파트 옆  \n",
       "1522       3538           서울숲 IT캐슬  \n",
       "1523       3539               서원마을  \n",
       "1524       3541             커먼그라운드  \n",
       "1525       3542       래미안 구의파크 스위트  \n",
       "\n",
       "[1526 rows x 7 columns]"
      ]
     },
     "execution_count": 5,
     "metadata": {},
     "output_type": "execute_result"
    }
   ],
   "source": [
    "fin_data"
   ]
  },
  {
   "cell_type": "code",
   "execution_count": null,
   "metadata": {},
   "outputs": [],
   "source": [
    "df = pd.read_csv(r\"C:\\Users\\19641\\OSS_Project\\opensourceproject\\bicycle\\df_bicycle.csv\")"
   ]
  },
  {
   "cell_type": "code",
   "execution_count": null,
   "metadata": {},
   "outputs": [],
   "source": [
    "arr =  pd.read_csv(r\"C:\\Users\\19641\\OSS_Project\\opensourceproject\\bicycle\\using_No.csv\",names = [\"station_No\"])"
   ]
  },
  {
   "cell_type": "code",
   "execution_count": null,
   "metadata": {},
   "outputs": [],
   "source": [
    "arr['station_No'] = arr['station_No'].astype(str)"
   ]
  },
  {
   "cell_type": "code",
   "execution_count": null,
   "metadata": {},
   "outputs": [],
   "source": [
    "df = df[df[\"반납대여소번호\"].isin(arr['station_No'])]\n",
    "df = df.reset_index(drop=True)\n",
    "\n",
    "df = df[df[\"대여대여소번호\"].isin(arr['station_No'])]\n",
    "df = df.reset_index(drop=True)"
   ]
  },
  {
   "cell_type": "code",
   "execution_count": null,
   "metadata": {
    "scrolled": true
   },
   "outputs": [],
   "source": [
    "df"
   ]
  },
  {
   "cell_type": "code",
   "execution_count": null,
   "metadata": {},
   "outputs": [],
   "source": [
    "origin = df[['반납대여소번호','대여대여소번호','반납일시','대여일시']].copy()\n",
    "destination = df[['반납대여소번호','대여대여소번호','반납일시','대여일시']].copy()"
   ]
  },
  {
   "cell_type": "code",
   "execution_count": null,
   "metadata": {},
   "outputs": [],
   "source": [
    "origin['Path ID'] =  'No.' + origin['반납대여소번호'].map(str)+ '_' +  'No.' + origin['대여대여소번호'].map(str)\n",
    "origin['Origin-Destination']='Origin'"
   ]
  },
  {
   "cell_type": "code",
   "execution_count": null,
   "metadata": {},
   "outputs": [],
   "source": [
    "destination['Path ID'] = 'No.' + destination['반납대여소번호'].map(str) + '_' +  'No.' + destination['대여대여소번호'].map(str)\n",
    "destination['Origin-Destination']='Destination'"
   ]
  },
  {
   "cell_type": "code",
   "execution_count": null,
   "metadata": {},
   "outputs": [],
   "source": [
    "origin = origin.drop(columns=['반납대여소번호', '반납일시']).copy()\n",
    "origin = origin.rename(columns={\"대여대여소번호\": \"대여소번호\", \"대여일시\": \"일시\"}).copy()\n",
    "origin = origin.drop(columns=['일시']).copy()"
   ]
  },
  {
   "cell_type": "code",
   "execution_count": null,
   "metadata": {
    "scrolled": true
   },
   "outputs": [],
   "source": [
    "origin"
   ]
  },
  {
   "cell_type": "code",
   "execution_count": null,
   "metadata": {},
   "outputs": [],
   "source": [
    "tmp = pd.DataFrame()\n",
    "tmp['Path ID'] = origin['Path ID'].value_counts().index\n",
    "tmp['Count'] = origin['Path ID'].value_counts().values"
   ]
  },
  {
   "cell_type": "code",
   "execution_count": null,
   "metadata": {
    "scrolled": true
   },
   "outputs": [],
   "source": [
    "tmp"
   ]
  },
  {
   "cell_type": "code",
   "execution_count": null,
   "metadata": {
    "scrolled": true
   },
   "outputs": [],
   "source": [
    "tmp['Path ID']"
   ]
  },
  {
   "cell_type": "code",
   "execution_count": null,
   "metadata": {},
   "outputs": [],
   "source": [
    "tmp['start']=tmp['Path ID'].apply(lambda e: e.split('_')[0])\n",
    "tmp['dest']=tmp['Path ID'].apply(lambda e: e.split('_')[1])"
   ]
  },
  {
   "cell_type": "code",
   "execution_count": null,
   "metadata": {
    "scrolled": true
   },
   "outputs": [],
   "source": [
    "tmp = tmp[tmp['start']==tmp['dest']].copy()"
   ]
  },
  {
   "cell_type": "code",
   "execution_count": null,
   "metadata": {
    "scrolled": true
   },
   "outputs": [],
   "source": [
    "tmp = tmp[tmp['Count']>1000].copy()"
   ]
  },
  {
   "cell_type": "code",
   "execution_count": null,
   "metadata": {},
   "outputs": [],
   "source": [
    "tmp['!use']=tmp['start'].apply(lambda e: e.split('No.')[1])"
   ]
  },
  {
   "cell_type": "code",
   "execution_count": null,
   "metadata": {
    "scrolled": true
   },
   "outputs": [],
   "source": [
    "no_use_arr = tmp['!use'].values"
   ]
  },
  {
   "cell_type": "code",
   "execution_count": null,
   "metadata": {
    "scrolled": true
   },
   "outputs": [],
   "source": [
    "no_use_arr"
   ]
  },
  {
   "cell_type": "code",
   "execution_count": null,
   "metadata": {
    "scrolled": true
   },
   "outputs": [],
   "source": [
    "fin_data"
   ]
  },
  {
   "cell_type": "markdown",
   "metadata": {},
   "source": [
    "### 부족/넘치는 자전거 대수를 포함한 need_use & over_use df 생성"
   ]
  },
  {
   "cell_type": "code",
   "execution_count": null,
   "metadata": {
    "scrolled": true
   },
   "outputs": [],
   "source": [
    "need = fin_data[fin_data['shared'].map(int)<30].copy()\n",
    "need"
   ]
  },
  {
   "cell_type": "code",
   "execution_count": null,
   "metadata": {
    "scrolled": true
   },
   "outputs": [],
   "source": [
    "need['count'] = need['rackTotCnt'].map(int)*0.4 - need['parkingBikeTotCnt'].map(int)\n",
    "need['count'] = need['count'].astype(int)\n",
    "need_use = need[['station_No','stationLatitude','stationLongitude','count','shared','rackTotCnt','parkingBikeTotCnt']]\n",
    "need_use = need_use.reset_index(drop=True)\n",
    "need_use"
   ]
  },
  {
   "cell_type": "code",
   "execution_count": null,
   "metadata": {
    "scrolled": true
   },
   "outputs": [],
   "source": [
    "over = fin_data[fin_data['shared'].map(int)>60].copy()\n",
    "over"
   ]
  },
  {
   "cell_type": "code",
   "execution_count": null,
   "metadata": {
    "scrolled": true
   },
   "outputs": [],
   "source": [
    "over['count'] = over['parkingBikeTotCnt'].map(int) - over['rackTotCnt'].map(int)*0.4\n",
    "over['count'] = over['count'].astype(int)\n",
    "over_use = over[['station_No','stationLatitude','stationLongitude','count','shared','rackTotCnt','parkingBikeTotCnt']]\n",
    "over_use = over_use.reset_index(drop=True)\n",
    "over_use"
   ]
  },
  {
   "cell_type": "code",
   "execution_count": null,
   "metadata": {},
   "outputs": [],
   "source": [
    "need_use['count'].sum()"
   ]
  },
  {
   "cell_type": "code",
   "execution_count": null,
   "metadata": {},
   "outputs": [],
   "source": [
    "over_use['count'].sum()"
   ]
  },
  {
   "cell_type": "markdown",
   "metadata": {},
   "source": [
    "## 재배치 알고리즘"
   ]
  },
  {
   "cell_type": "markdown",
   "metadata": {},
   "source": [
    "1) 서울시 중심좌표 기준 가장 먼 Need 부터 Sorting\n",
    "\n",
    "2) for문 돌면서 순서대로 \n",
    "\n",
    "    2-1) need와 가까운 k 개의 over를 구함\n",
    "    \n",
    "    2-2) 가장 가까운 over에서 부터 채울 수 있는 만큼 모두 채움\n",
    "    \n",
    "    2-3) need & over 갱신 후 문제가 해결 된 거치소는 삭제함\n",
    "    \n",
    "3) 나온 결과물\n",
    "    \n",
    "   need over movenum\n",
    "     1    2   3 "
   ]
  },
  {
   "cell_type": "code",
   "execution_count": null,
   "metadata": {},
   "outputs": [],
   "source": [
    "no_use_arr"
   ]
  },
  {
   "cell_type": "code",
   "execution_count": null,
   "metadata": {
    "scrolled": true
   },
   "outputs": [],
   "source": [
    "need_use = need_use[~need_use[\"station_No\"].isin(no_use_arr)].copy()\n",
    "need_use.reset_index(drop=True)\n",
    "need_use"
   ]
  },
  {
   "cell_type": "code",
   "execution_count": null,
   "metadata": {},
   "outputs": [],
   "source": [
    "need_use['count'].sum()"
   ]
  },
  {
   "cell_type": "code",
   "execution_count": null,
   "metadata": {},
   "outputs": [],
   "source": [
    "from math import cos, asin, sqrt\n",
    "def distance(lat1, lon1, lat2, lon2):\n",
    "    p = 0.017453292519943295     #Pi/180\n",
    "    a = 0.5 - cos((lat2 - lat1) * p)/2 + cos(lat1 * p) * cos(lat2 * p) * (1 - cos((lon2 - lon1) * p)) / 2\n",
    "    return 12742 * asin(sqrt(a)) #2*R*asin..."
   ]
  },
  {
   "cell_type": "code",
   "execution_count": null,
   "metadata": {
    "scrolled": true
   },
   "outputs": [],
   "source": [
    "need_use = need_use.sort_values(by=['shared'])"
   ]
  },
  {
   "cell_type": "code",
   "execution_count": null,
   "metadata": {
    "scrolled": true
   },
   "outputs": [],
   "source": [
    "need_use = need_use.reset_index(drop=True)\n",
    "need_use"
   ]
  },
  {
   "cell_type": "code",
   "execution_count": null,
   "metadata": {
    "scrolled": true
   },
   "outputs": [],
   "source": [
    "move = pd.DataFrame(columns=['Origin','Destination','movement']).copy()\n",
    "max_tolerance = over_use['count'].sum()\n",
    "\n",
    "\n",
    "for i in need_use['station_No']:\n",
    "   \n",
    "    x = need_use[need_use['station_No'] ==i]['stationLatitude'].values\n",
    "    nd_x = float(x[0])\n",
    "    y = need_use[need_use['station_No'] ==i]['stationLongitude'].values\n",
    "    nd_y = float(y[0])\n",
    "        \n",
    "    dt_distance = pd.DataFrame(columns=['station_Num','distance']).copy()\n",
    "    \n",
    "    \n",
    "    for j in over_use['station_No']:\n",
    "        \n",
    "        if(over_use[over_use['station_No'] ==j]['count'].values == 0):\n",
    "            continue\n",
    "        else:\n",
    "            x = over_use[over_use['station_No'] ==j]['stationLatitude'].values\n",
    "            ov_x = float(x[0])\n",
    "            y = over_use[over_use['station_No'] ==j]['stationLongitude'].values\n",
    "            ov_y = float(y[0])\n",
    "            dis = distance(nd_x,nd_y,ov_x,ov_y)\n",
    "            dt_distance = dt_distance.append({'station_Num': j,'distance':dis}, ignore_index=True)\n",
    "            \n",
    "    dt_distance = dt_distance.sort_values(by=['distance']).copy()\n",
    "    dt_distance = dt_distance.reset_index(drop=True)\n",
    "    \n",
    "    if(max_tolerance == 0):\n",
    "        break\n",
    "    \n",
    "    need_amount = need_use[need_use['station_No'] ==i]['count'].values\n",
    "    \n",
    "    for k in dt_distance['station_Num']:\n",
    "        over_amount = over_use[over_use['station_No'] == k]['count'].values\n",
    "        \n",
    "        if(max_tolerance == 0):\n",
    "            break\n",
    "        \n",
    "        if(need_amount == 0):\n",
    "            break\n",
    "            \n",
    "        elif(need_amount > over_amount):\n",
    "            need_amount -= over_amount\n",
    "            max_tolerance -= over_amount\n",
    "            \n",
    "            over_use.at[over_use[over_use['station_No'] == k].index[0], 'count'] = 0\n",
    "            need_use.at[need_use[need_use['station_No'] == i].index[0], 'count'] = need_amount\n",
    "            \n",
    "            move = move.append({'Origin':k,'Destination':i,'movement':int(over_amount)}, ignore_index=True)\n",
    "            \n",
    "        else:\n",
    "            over_amount -= need_amount\n",
    "            max_tolerance -= need_amount\n",
    "            \n",
    "            over_use.at[over_use[over_use['station_No'] == k].index[0], 'count'] = over_amount\n",
    "            need_use.at[need_use[need_use['station_No'] == i].index[0], 'count'] = 0\n",
    "            \n",
    "            move = move.append({'Origin':k,'Destination':i,'movement':int(need_amount)}, ignore_index=True)\n",
    "            break           "
   ]
  },
  {
   "cell_type": "code",
   "execution_count": null,
   "metadata": {
    "scrolled": true
   },
   "outputs": [],
   "source": [
    "move"
   ]
  },
  {
   "cell_type": "code",
   "execution_count": null,
   "metadata": {},
   "outputs": [],
   "source": [
    "move.to_csv('move.csv',encoding='utf-8-sig',index=False)"
   ]
  },
  {
   "cell_type": "code",
   "execution_count": null,
   "metadata": {
    "scrolled": true
   },
   "outputs": [],
   "source": [
    "move"
   ]
  },
  {
   "cell_type": "code",
   "execution_count": null,
   "metadata": {},
   "outputs": [],
   "source": [
    "df = move.copy()"
   ]
  },
  {
   "cell_type": "code",
   "execution_count": null,
   "metadata": {
    "scrolled": true
   },
   "outputs": [],
   "source": [
    "last = pd.read_csv(\"공공자전거 대여소 정보_201905.CSV\",engine = 'python')\n",
    "last"
   ]
  },
  {
   "cell_type": "code",
   "execution_count": null,
   "metadata": {},
   "outputs": [],
   "source": [
    "origin = pd.DataFrame().copy()"
   ]
  },
  {
   "cell_type": "code",
   "execution_count": null,
   "metadata": {},
   "outputs": [],
   "source": [
    "origin['Station'] = df['Origin'].map(str)\n",
    "origin['Path ID'] =  'No.' + df['Origin'].map(str)+ '_' +  'No.' + df['Destination'].map(str)\n",
    "origin['Origin-Destination']='Origin'\n",
    "origin['movement'] = df['movement']"
   ]
  },
  {
   "cell_type": "code",
   "execution_count": null,
   "metadata": {
    "scrolled": true
   },
   "outputs": [],
   "source": [
    "origin"
   ]
  },
  {
   "cell_type": "code",
   "execution_count": null,
   "metadata": {},
   "outputs": [],
   "source": [
    "destination = pd.DataFrame().copy()"
   ]
  },
  {
   "cell_type": "code",
   "execution_count": null,
   "metadata": {},
   "outputs": [],
   "source": [
    "destination['Station'] = df['Destination'].map(str)\n",
    "destination['Path ID'] =  'No.' + df['Origin'].map(str)+ '_' +  'No.' + df['Destination'].map(str)\n",
    "destination['Origin-Destination']='Destination'\n",
    "destination['movement'] = df['movement']"
   ]
  },
  {
   "cell_type": "code",
   "execution_count": null,
   "metadata": {
    "scrolled": true
   },
   "outputs": [],
   "source": [
    "destination"
   ]
  },
  {
   "cell_type": "code",
   "execution_count": null,
   "metadata": {},
   "outputs": [],
   "source": [
    "origin['idx'] = origin.index\n",
    "destination['idx'] = destination.index"
   ]
  },
  {
   "cell_type": "code",
   "execution_count": null,
   "metadata": {},
   "outputs": [],
   "source": [
    "temp = pd.concat([origin, destination], axis=0)"
   ]
  },
  {
   "cell_type": "code",
   "execution_count": null,
   "metadata": {},
   "outputs": [],
   "source": [
    "temp  = temp.sort_values(['idx', 'Origin-Destination'], ascending=[True, False])"
   ]
  },
  {
   "cell_type": "code",
   "execution_count": null,
   "metadata": {
    "scrolled": true
   },
   "outputs": [],
   "source": [
    "temp = temp.reset_index(drop=True)\n",
    "temp['Station'] = temp['Station'].astype(str).astype(int)"
   ]
  },
  {
   "cell_type": "code",
   "execution_count": null,
   "metadata": {},
   "outputs": [],
   "source": [
    "info = pd.read_csv(\"공공자전거 대여소 정보_201905.CSV\",engine = 'python')\n",
    "info = info.drop(columns=['구분','대여소명','거치대수']).copy()\n",
    "info = info.rename(columns={'대여소번호': \"Station\", \"위도\": \"Latitude\",\"경도\": \"Longitude\"})"
   ]
  },
  {
   "cell_type": "code",
   "execution_count": null,
   "metadata": {
    "scrolled": true
   },
   "outputs": [],
   "source": [
    "fin = pd.merge(temp, info, on='Station')\n",
    "fin = fin.sort_values(['idx', 'Origin-Destination'], ascending=[True, False])\n",
    "fin = fin.drop(columns=['idx']).copy()\n",
    "fin = fin.reset_index(drop=True)\n",
    "fin"
   ]
  },
  {
   "cell_type": "code",
   "execution_count": null,
   "metadata": {},
   "outputs": [],
   "source": [
    "arr = 'No.' + fin['Station'].map(str)\n",
    "fin['Station'] = arr"
   ]
  },
  {
   "cell_type": "code",
   "execution_count": null,
   "metadata": {},
   "outputs": [],
   "source": [
    "fin.to_csv('optimize_path.csv',encoding='utf-8-sig',index=False)"
   ]
  }
 ],
 "metadata": {
  "kernelspec": {
   "display_name": "Python 3",
   "language": "python",
   "name": "python3"
  },
  "language_info": {
   "codemirror_mode": {
    "name": "ipython",
    "version": 3
   },
   "file_extension": ".py",
   "mimetype": "text/x-python",
   "name": "python",
   "nbconvert_exporter": "python",
   "pygments_lexer": "ipython3",
   "version": "3.6.5"
  }
 },
 "nbformat": 4,
 "nbformat_minor": 2
}
