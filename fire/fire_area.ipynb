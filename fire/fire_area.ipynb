{
 "cells": [
  {
   "cell_type": "code",
   "execution_count": 1,
   "metadata": {},
   "outputs": [],
   "source": [
    "import numpy as np\n",
    "import pandas as pd\n",
    "import geopandas as gpd\n",
    "import matplotlib.pyplot as plt\n",
    "from shapely.geometry import Point\n",
    "pd.set_option('display.max_columns', None)"
   ]
  },
  {
   "cell_type": "markdown",
   "metadata": {},
   "source": [
    "## 서울시 소방서 & 안전센터 위치정보"
   ]
  },
  {
   "cell_type": "markdown",
   "metadata": {},
   "source": [
    "#### csv 파일 불러오기 -> 이미 전처리 된 파일"
   ]
  },
  {
   "cell_type": "code",
   "execution_count": 2,
   "metadata": {},
   "outputs": [],
   "source": [
    "df_firesafe = pd.read_csv('firesafe.csv', encoding='UTF-8')"
   ]
  },
  {
   "cell_type": "code",
   "execution_count": 3,
   "metadata": {},
   "outputs": [],
   "source": [
    "df_firesafe = df_firesafe.drop(df_firesafe.columns[0], axis=1)"
   ]
  },
  {
   "cell_type": "code",
   "execution_count": 4,
   "metadata": {},
   "outputs": [],
   "source": [
    "df_firesafe.rename(columns={'주소':'자치구'}, inplace=True)\n",
    "df_firesafe['flag']='소방서'"
   ]
  },
  {
   "cell_type": "code",
   "execution_count": 5,
   "metadata": {
    "scrolled": true
   },
   "outputs": [
    {
     "data": {
      "text/html": [
       "<div>\n",
       "<style scoped>\n",
       "    .dataframe tbody tr th:only-of-type {\n",
       "        vertical-align: middle;\n",
       "    }\n",
       "\n",
       "    .dataframe tbody tr th {\n",
       "        vertical-align: top;\n",
       "    }\n",
       "\n",
       "    .dataframe thead th {\n",
       "        text-align: right;\n",
       "    }\n",
       "</style>\n",
       "<table border=\"1\" class=\"dataframe\">\n",
       "  <thead>\n",
       "    <tr style=\"text-align: right;\">\n",
       "      <th></th>\n",
       "      <th>이름</th>\n",
       "      <th>위도</th>\n",
       "      <th>경도</th>\n",
       "      <th>자치구</th>\n",
       "      <th>flag</th>\n",
       "    </tr>\n",
       "  </thead>\n",
       "  <tbody>\n",
       "    <tr>\n",
       "      <th>0</th>\n",
       "      <td>영등포소방서</td>\n",
       "      <td>37.520641</td>\n",
       "      <td>126.913924</td>\n",
       "      <td>영등포구</td>\n",
       "      <td>소방서</td>\n",
       "    </tr>\n",
       "    <tr>\n",
       "      <th>1</th>\n",
       "      <td>동대문소방서</td>\n",
       "      <td>37.583794</td>\n",
       "      <td>127.050688</td>\n",
       "      <td>동대문구</td>\n",
       "      <td>소방서</td>\n",
       "    </tr>\n",
       "    <tr>\n",
       "      <th>2</th>\n",
       "      <td>용산소방서</td>\n",
       "      <td>37.531106</td>\n",
       "      <td>126.980942</td>\n",
       "      <td>용산구</td>\n",
       "      <td>소방서</td>\n",
       "    </tr>\n",
       "  </tbody>\n",
       "</table>\n",
       "</div>"
      ],
      "text/plain": [
       "       이름         위도          경도   자치구 flag\n",
       "0  영등포소방서  37.520641  126.913924  영등포구  소방서\n",
       "1  동대문소방서  37.583794  127.050688  동대문구  소방서\n",
       "2   용산소방서  37.531106  126.980942   용산구  소방서"
      ]
     },
     "execution_count": 5,
     "metadata": {},
     "output_type": "execute_result"
    }
   ],
   "source": [
    "df_firesafe.head(3)"
   ]
  },
  {
   "cell_type": "markdown",
   "metadata": {},
   "source": [
    "## 서울시 도로구간 위치 정보"
   ]
  },
  {
   "cell_type": "markdown",
   "metadata": {},
   "source": [
    "#### csv 파일 불러오기"
   ]
  },
  {
   "cell_type": "code",
   "execution_count": 6,
   "metadata": {},
   "outputs": [
    {
     "name": "stderr",
     "output_type": "stream",
     "text": [
      "C:\\Users\\LEEJUNGEUN\\Anaconda3\\lib\\site-packages\\IPython\\core\\interactiveshell.py:3020: DtypeWarning: Columns (19) have mixed types. Specify dtype option on import or set low_memory=False.\n",
      "  interactivity=interactivity, compiler=compiler, result=result)\n"
     ]
    }
   ],
   "source": [
    "df_street = pd.read_csv('street.csv', encoding='UTF-8')"
   ]
  },
  {
   "cell_type": "code",
   "execution_count": 7,
   "metadata": {
    "scrolled": true
   },
   "outputs": [
    {
     "data": {
      "text/plain": [
       "Index(['순서', '시군구코드', '도로구간일련번호', '도로명', '도로명코드', '영문도로명', '고시일자', '도로명심의일자',\n",
       "       '도로제정권자', '광역도로구분코드', '도로위계기능구분', '도로구간종속구분', '기점', '종점', '도로폭', '도로길이',\n",
       "       '기초간격', '국도/지방도번호', '부여사유', '부여일자', '이동사유코드', '이동사유', '이동일자', '분기시군구코드',\n",
       "       '분기도로구간일련번호', '입력방법', '교차로수', '발급여부', '위도', '경도'],\n",
       "      dtype='object')"
      ]
     },
     "execution_count": 7,
     "metadata": {},
     "output_type": "execute_result"
    }
   ],
   "source": [
    "df_street.columns"
   ]
  },
  {
   "cell_type": "markdown",
   "metadata": {},
   "source": [
    "#### 도로 폭 4m미만 데이터만 추출 & column drop"
   ]
  },
  {
   "cell_type": "code",
   "execution_count": 8,
   "metadata": {
    "scrolled": true
   },
   "outputs": [],
   "source": [
    "df_street = df_street[(df_street['도로폭']<=4)]"
   ]
  },
  {
   "cell_type": "code",
   "execution_count": 9,
   "metadata": {},
   "outputs": [],
   "source": [
    "df_street = df_street[['도로명', '위도', '경도', '시군구코드']]"
   ]
  },
  {
   "cell_type": "markdown",
   "metadata": {},
   "source": [
    "### 시군구코드&이름 csv 파일 불러오기"
   ]
  },
  {
   "cell_type": "code",
   "execution_count": 10,
   "metadata": {},
   "outputs": [],
   "source": [
    "df_gu = pd.read_csv('sigungu.csv', encoding='UTF-8')"
   ]
  },
  {
   "cell_type": "code",
   "execution_count": 11,
   "metadata": {
    "scrolled": true
   },
   "outputs": [],
   "source": [
    "df_gu = df_gu[['시군구코드', '시군구명_한글']]"
   ]
  },
  {
   "cell_type": "markdown",
   "metadata": {},
   "source": [
    "#### 파일 병합 및 drop"
   ]
  },
  {
   "cell_type": "code",
   "execution_count": 12,
   "metadata": {
    "scrolled": true
   },
   "outputs": [],
   "source": [
    "df_street = pd.merge(df_street, df_gu)\n",
    "df_street = df_street.drop(df_street.columns[3], axis=1)\n",
    "df_street.rename(columns={'시군구명_한글':'자치구', '도로명' : '이름'}, inplace=True)"
   ]
  },
  {
   "cell_type": "code",
   "execution_count": 13,
   "metadata": {},
   "outputs": [],
   "source": [
    "df_street['flag']= '도로'"
   ]
  },
  {
   "cell_type": "code",
   "execution_count": 14,
   "metadata": {},
   "outputs": [
    {
     "data": {
      "text/html": [
       "<div>\n",
       "<style scoped>\n",
       "    .dataframe tbody tr th:only-of-type {\n",
       "        vertical-align: middle;\n",
       "    }\n",
       "\n",
       "    .dataframe tbody tr th {\n",
       "        vertical-align: top;\n",
       "    }\n",
       "\n",
       "    .dataframe thead th {\n",
       "        text-align: right;\n",
       "    }\n",
       "</style>\n",
       "<table border=\"1\" class=\"dataframe\">\n",
       "  <thead>\n",
       "    <tr style=\"text-align: right;\">\n",
       "      <th></th>\n",
       "      <th>이름</th>\n",
       "      <th>위도</th>\n",
       "      <th>경도</th>\n",
       "      <th>자치구</th>\n",
       "      <th>flag</th>\n",
       "    </tr>\n",
       "  </thead>\n",
       "  <tbody>\n",
       "    <tr>\n",
       "      <th>0</th>\n",
       "      <td>옥인6가길</td>\n",
       "      <td>37.581420</td>\n",
       "      <td>126.965176</td>\n",
       "      <td>종로구</td>\n",
       "      <td>도로</td>\n",
       "    </tr>\n",
       "    <tr>\n",
       "      <th>1</th>\n",
       "      <td>자하문로</td>\n",
       "      <td>37.586980</td>\n",
       "      <td>126.969095</td>\n",
       "      <td>종로구</td>\n",
       "      <td>도로</td>\n",
       "    </tr>\n",
       "    <tr>\n",
       "      <th>2</th>\n",
       "      <td>사직로1길</td>\n",
       "      <td>37.573648</td>\n",
       "      <td>126.962948</td>\n",
       "      <td>종로구</td>\n",
       "      <td>도로</td>\n",
       "    </tr>\n",
       "  </tbody>\n",
       "</table>\n",
       "</div>"
      ],
      "text/plain": [
       "      이름         위도          경도  자치구 flag\n",
       "0  옥인6가길  37.581420  126.965176  종로구   도로\n",
       "1   자하문로  37.586980  126.969095  종로구   도로\n",
       "2  사직로1길  37.573648  126.962948  종로구   도로"
      ]
     },
     "execution_count": 14,
     "metadata": {},
     "output_type": "execute_result"
    }
   ],
   "source": [
    "df_street.head(3)"
   ]
  },
  {
   "cell_type": "markdown",
   "metadata": {},
   "source": [
    "## 서울시 건물 정보"
   ]
  },
  {
   "cell_type": "markdown",
   "metadata": {},
   "source": [
    "#### shp 파일 불러오기"
   ]
  },
  {
   "cell_type": "code",
   "execution_count": 15,
   "metadata": {},
   "outputs": [],
   "source": [
    "plt.rcParams['font.family'] = 'NanumGothic'\n",
    "plt.rcParams['figure.figsize'] = (10,10)"
   ]
  },
  {
   "cell_type": "code",
   "execution_count": 16,
   "metadata": {},
   "outputs": [],
   "source": [
    "build_file = \"seoul.shp\"\n",
    "build = gpd.read_file(build_file, encoding='euc-kr')"
   ]
  },
  {
   "cell_type": "code",
   "execution_count": 17,
   "metadata": {},
   "outputs": [
    {
     "data": {
      "text/html": [
       "<div>\n",
       "<style scoped>\n",
       "    .dataframe tbody tr th:only-of-type {\n",
       "        vertical-align: middle;\n",
       "    }\n",
       "\n",
       "    .dataframe tbody tr th {\n",
       "        vertical-align: top;\n",
       "    }\n",
       "\n",
       "    .dataframe thead th {\n",
       "        text-align: right;\n",
       "    }\n",
       "</style>\n",
       "<table border=\"1\" class=\"dataframe\">\n",
       "  <thead>\n",
       "    <tr style=\"text-align: right;\">\n",
       "      <th></th>\n",
       "      <th>A0</th>\n",
       "      <th>A1</th>\n",
       "      <th>A2</th>\n",
       "      <th>A3</th>\n",
       "      <th>A4</th>\n",
       "      <th>A5</th>\n",
       "      <th>A6</th>\n",
       "      <th>A7</th>\n",
       "      <th>A8</th>\n",
       "      <th>A9</th>\n",
       "      <th>A10</th>\n",
       "      <th>A11</th>\n",
       "      <th>A12</th>\n",
       "      <th>A13</th>\n",
       "      <th>A14</th>\n",
       "      <th>A15</th>\n",
       "      <th>A16</th>\n",
       "      <th>A17</th>\n",
       "      <th>A18</th>\n",
       "      <th>A19</th>\n",
       "      <th>A20</th>\n",
       "      <th>A21</th>\n",
       "      <th>A22</th>\n",
       "      <th>A23</th>\n",
       "      <th>A24</th>\n",
       "      <th>A25</th>\n",
       "      <th>A26</th>\n",
       "      <th>A27</th>\n",
       "      <th>A28</th>\n",
       "      <th>A29</th>\n",
       "      <th>A30</th>\n",
       "      <th>A31</th>\n",
       "      <th>A32</th>\n",
       "      <th>A33</th>\n",
       "      <th>A34</th>\n",
       "      <th>A35</th>\n",
       "      <th>A36</th>\n",
       "      <th>A37</th>\n",
       "      <th>A38</th>\n",
       "      <th>geometry</th>\n",
       "    </tr>\n",
       "  </thead>\n",
       "  <tbody>\n",
       "    <tr>\n",
       "      <th>0</th>\n",
       "      <td>1975197915054566808200000000</td>\n",
       "      <td>1111018300104540003</td>\n",
       "      <td>1111018300</td>\n",
       "      <td>서울특별시 종로구 평창동</td>\n",
       "      <td>1</td>\n",
       "      <td>일반</td>\n",
       "      <td>454-3</td>\n",
       "      <td>10001</td>\n",
       "      <td>1</td>\n",
       "      <td>일반건축물</td>\n",
       "      <td>2</td>\n",
       "      <td>일반건축물대방</td>\n",
       "      <td>None</td>\n",
       "      <td>0</td>\n",
       "      <td>111104100504</td>\n",
       "      <td>18301</td>\n",
       "      <td>0</td>\n",
       "      <td>00040</td>\n",
       "      <td>00000</td>\n",
       "      <td>None</td>\n",
       "      <td>0</td>\n",
       "      <td>주건축물</td>\n",
       "      <td>0.0</td>\n",
       "      <td>0.0</td>\n",
       "      <td>163.34</td>\n",
       "      <td>0.0</td>\n",
       "      <td>0.0</td>\n",
       "      <td>11</td>\n",
       "      <td>벽돌구조</td>\n",
       "      <td>01000</td>\n",
       "      <td>단독주택</td>\n",
       "      <td>0.0</td>\n",
       "      <td>2</td>\n",
       "      <td>0</td>\n",
       "      <td>None</td>\n",
       "      <td>19750204</td>\n",
       "      <td>0</td>\n",
       "      <td>0.0</td>\n",
       "      <td>2019-09-05</td>\n",
       "      <td>POLYGON ((126.9772557944249 37.61244331076725,...</td>\n",
       "    </tr>\n",
       "  </tbody>\n",
       "</table>\n",
       "</div>"
      ],
      "text/plain": [
       "                             A0                   A1          A2  \\\n",
       "0  1975197915054566808200000000  1111018300104540003  1111018300   \n",
       "\n",
       "              A3 A4  A5     A6     A7 A8     A9 A10      A11   A12 A13  \\\n",
       "0  서울특별시 종로구 평창동  1  일반  454-3  10001  1  일반건축물   2  일반건축물대방  None   0   \n",
       "\n",
       "            A14    A15 A16    A17    A18   A19 A20   A21  A22  A23     A24  \\\n",
       "0  111104100504  18301   0  00040  00000  None   0  주건축물  0.0  0.0  163.34   \n",
       "\n",
       "   A25  A26 A27   A28    A29   A30  A31  A32  A33   A34       A35  A36  A37  \\\n",
       "0  0.0  0.0  11  벽돌구조  01000  단독주택  0.0    2    0  None  19750204    0  0.0   \n",
       "\n",
       "          A38                                           geometry  \n",
       "0  2019-09-05  POLYGON ((126.9772557944249 37.61244331076725,...  "
      ]
     },
     "execution_count": 17,
     "metadata": {},
     "output_type": "execute_result"
    }
   ],
   "source": [
    "build[:1]"
   ]
  },
  {
   "cell_type": "markdown",
   "metadata": {},
   "source": [
    "#### column drop/rename & filtering"
   ]
  },
  {
   "cell_type": "code",
   "execution_count": 18,
   "metadata": {},
   "outputs": [
    {
     "data": {
      "text/html": [
       "<div>\n",
       "<style scoped>\n",
       "    .dataframe tbody tr th:only-of-type {\n",
       "        vertical-align: middle;\n",
       "    }\n",
       "\n",
       "    .dataframe tbody tr th {\n",
       "        vertical-align: top;\n",
       "    }\n",
       "\n",
       "    .dataframe thead th {\n",
       "        text-align: right;\n",
       "    }\n",
       "</style>\n",
       "<table border=\"1\" class=\"dataframe\">\n",
       "  <thead>\n",
       "    <tr style=\"text-align: right;\">\n",
       "      <th></th>\n",
       "      <th>면적</th>\n",
       "      <th>외장재</th>\n",
       "      <th>이름</th>\n",
       "      <th>지상층수</th>\n",
       "      <th>허가일자</th>\n",
       "      <th>사용승인일자</th>\n",
       "      <th>주소</th>\n",
       "      <th>geometry</th>\n",
       "    </tr>\n",
       "  </thead>\n",
       "  <tbody>\n",
       "    <tr>\n",
       "      <th>0</th>\n",
       "      <td>0.00</td>\n",
       "      <td>벽돌구조</td>\n",
       "      <td>단독주택</td>\n",
       "      <td>2</td>\n",
       "      <td>None</td>\n",
       "      <td>19750204</td>\n",
       "      <td>서울특별시 종로구 평창동</td>\n",
       "      <td>POLYGON ((126.9772557944249 37.61244331076725,...</td>\n",
       "    </tr>\n",
       "    <tr>\n",
       "      <th>1</th>\n",
       "      <td>34.65</td>\n",
       "      <td>일반목구조</td>\n",
       "      <td>단독주택</td>\n",
       "      <td>1</td>\n",
       "      <td>None</td>\n",
       "      <td>None</td>\n",
       "      <td>서울특별시 종로구 충신동</td>\n",
       "      <td>POLYGON ((127.0057196556986 37.57560994223294,...</td>\n",
       "    </tr>\n",
       "    <tr>\n",
       "      <th>2</th>\n",
       "      <td>0.00</td>\n",
       "      <td>벽돌구조</td>\n",
       "      <td>단독주택</td>\n",
       "      <td>2</td>\n",
       "      <td>None</td>\n",
       "      <td>19751001</td>\n",
       "      <td>서울특별시 종로구 홍지동</td>\n",
       "      <td>POLYGON ((126.9570926512983 37.60274359589213,...</td>\n",
       "    </tr>\n",
       "  </tbody>\n",
       "</table>\n",
       "</div>"
      ],
      "text/plain": [
       "      면적    외장재    이름  지상층수  허가일자    사용승인일자             주소  \\\n",
       "0   0.00   벽돌구조  단독주택     2  None  19750204  서울특별시 종로구 평창동   \n",
       "1  34.65  일반목구조  단독주택     1  None      None  서울특별시 종로구 충신동   \n",
       "2   0.00   벽돌구조  단독주택     2  None  19751001  서울특별시 종로구 홍지동   \n",
       "\n",
       "                                            geometry  \n",
       "0  POLYGON ((126.9772557944249 37.61244331076725,...  \n",
       "1  POLYGON ((127.0057196556986 37.57560994223294,...  \n",
       "2  POLYGON ((126.9570926512983 37.60274359589213,...  "
      ]
     },
     "execution_count": 18,
     "metadata": {},
     "output_type": "execute_result"
    }
   ],
   "source": [
    "build = build[['A23', 'A28', 'A30', 'A32', 'A34', 'A35', 'A3', 'geometry']]\n",
    "#column명 수정\n",
    "col_list = ['면적','외장재', '이름', '지상층수','허가일자','사용승인일자', '주소', 'geometry']\n",
    "build.columns=col_list\n",
    "build.head(3)"
   ]
  },
  {
   "cell_type": "code",
   "execution_count": 19,
   "metadata": {
    "scrolled": true
   },
   "outputs": [
    {
     "data": {
      "text/html": [
       "<div>\n",
       "<style scoped>\n",
       "    .dataframe tbody tr th:only-of-type {\n",
       "        vertical-align: middle;\n",
       "    }\n",
       "\n",
       "    .dataframe tbody tr th {\n",
       "        vertical-align: top;\n",
       "    }\n",
       "\n",
       "    .dataframe thead th {\n",
       "        text-align: right;\n",
       "    }\n",
       "</style>\n",
       "<table border=\"1\" class=\"dataframe\">\n",
       "  <thead>\n",
       "    <tr style=\"text-align: right;\">\n",
       "      <th></th>\n",
       "      <th>면적</th>\n",
       "      <th>외장재</th>\n",
       "      <th>이름</th>\n",
       "      <th>지상층수</th>\n",
       "      <th>허가일자</th>\n",
       "      <th>사용승인일자</th>\n",
       "      <th>주소</th>\n",
       "      <th>geometry</th>\n",
       "    </tr>\n",
       "  </thead>\n",
       "  <tbody>\n",
       "    <tr>\n",
       "      <th>0</th>\n",
       "      <td>0</td>\n",
       "      <td>벽돌구조</td>\n",
       "      <td>단독주택</td>\n",
       "      <td>2</td>\n",
       "      <td>19750204</td>\n",
       "      <td>19750204</td>\n",
       "      <td>서울특별시 종로구 평창동</td>\n",
       "      <td>POLYGON ((126.9772557944249 37.61244331076725,...</td>\n",
       "    </tr>\n",
       "    <tr>\n",
       "      <th>2</th>\n",
       "      <td>0</td>\n",
       "      <td>벽돌구조</td>\n",
       "      <td>단독주택</td>\n",
       "      <td>2</td>\n",
       "      <td>19751001</td>\n",
       "      <td>19751001</td>\n",
       "      <td>서울특별시 종로구 홍지동</td>\n",
       "      <td>POLYGON ((126.9570926512983 37.60274359589213,...</td>\n",
       "    </tr>\n",
       "    <tr>\n",
       "      <th>3</th>\n",
       "      <td>0</td>\n",
       "      <td>벽돌구조</td>\n",
       "      <td>제2종근린생활시설</td>\n",
       "      <td>2</td>\n",
       "      <td>19610901</td>\n",
       "      <td>19610901</td>\n",
       "      <td>서울특별시 종로구 누하동</td>\n",
       "      <td>POLYGON ((126.9688026330083 37.58022714931604,...</td>\n",
       "    </tr>\n",
       "    <tr>\n",
       "      <th>4</th>\n",
       "      <td>0</td>\n",
       "      <td>벽돌구조</td>\n",
       "      <td>단독주택</td>\n",
       "      <td>2</td>\n",
       "      <td>19831107</td>\n",
       "      <td>19840715</td>\n",
       "      <td>서울특별시 종로구 평창동</td>\n",
       "      <td>POLYGON ((126.965533507656 37.61175292373296, ...</td>\n",
       "    </tr>\n",
       "    <tr>\n",
       "      <th>5</th>\n",
       "      <td>250</td>\n",
       "      <td>철근콘크리트구조</td>\n",
       "      <td>제2종근린생활시설</td>\n",
       "      <td>5</td>\n",
       "      <td>19821224</td>\n",
       "      <td>19821224</td>\n",
       "      <td>서울특별시 종로구 동숭동</td>\n",
       "      <td>POLYGON ((127.0026164983 37.58147749843972, 12...</td>\n",
       "    </tr>\n",
       "  </tbody>\n",
       "</table>\n",
       "</div>"
      ],
      "text/plain": [
       "    면적       외장재         이름  지상층수      허가일자    사용승인일자             주소  \\\n",
       "0    0      벽돌구조       단독주택     2  19750204  19750204  서울특별시 종로구 평창동   \n",
       "2    0      벽돌구조       단독주택     2  19751001  19751001  서울특별시 종로구 홍지동   \n",
       "3    0      벽돌구조  제2종근린생활시설     2  19610901  19610901  서울특별시 종로구 누하동   \n",
       "4    0      벽돌구조       단독주택     2  19831107  19840715  서울특별시 종로구 평창동   \n",
       "5  250  철근콘크리트구조  제2종근린생활시설     5  19821224  19821224  서울특별시 종로구 동숭동   \n",
       "\n",
       "                                            geometry  \n",
       "0  POLYGON ((126.9772557944249 37.61244331076725,...  \n",
       "2  POLYGON ((126.9570926512983 37.60274359589213,...  \n",
       "3  POLYGON ((126.9688026330083 37.58022714931604,...  \n",
       "4  POLYGON ((126.965533507656 37.61175292373296, ...  \n",
       "5  POLYGON ((127.0026164983 37.58147749843972, 12...  "
      ]
     },
     "execution_count": 19,
     "metadata": {},
     "output_type": "execute_result"
    }
   ],
   "source": [
    "###### 건출물 허가일자 필터링 ######\n",
    "\n",
    "#float 변환\n",
    "build['허가일자']=build['허가일자'].astype(float)\n",
    "build['사용승인일자']=build['사용승인일자'].astype(float)\n",
    "\n",
    "#fillna하고, int로 변환\n",
    "build['허가일자']=build['허가일자'].fillna(0).astype(int)\n",
    "build['사용승인일자']=build['사용승인일자'].fillna(0).astype(int)\n",
    "\n",
    "#0인 허가일자 값 사용승인일자로 채우기 \n",
    "build['허가일자']=np.where(build['허가일자']==0, build['사용승인일자'], build['허가일자'])\n",
    "\n",
    "#0인값 없애기\n",
    "build= build[build['허가일자']!=0]\n",
    "\n",
    "#int로 변환\n",
    "build['면적']=build['면적'].astype(int)\n",
    "\n",
    "build.head()"
   ]
  },
  {
   "cell_type": "markdown",
   "metadata": {},
   "source": [
    "#### dataframe 생성"
   ]
  },
  {
   "cell_type": "code",
   "execution_count": 20,
   "metadata": {},
   "outputs": [],
   "source": [
    "df_build = pd.DataFrame(build.drop(columns='geometry'))"
   ]
  },
  {
   "cell_type": "markdown",
   "metadata": {},
   "source": [
    "#### 위도/경도 & 자치구 생성"
   ]
  },
  {
   "cell_type": "code",
   "execution_count": 21,
   "metadata": {},
   "outputs": [],
   "source": [
    "mypoints = [build.centroid]\n",
    "\n",
    "list_point = []\n",
    "for pp in mypoints:\n",
    "    list_point.append([pp.x, pp.y])\n",
    "np_point = np.array(list_point)"
   ]
  },
  {
   "cell_type": "code",
   "execution_count": 22,
   "metadata": {},
   "outputs": [],
   "source": [
    "df_build['경도'] = np_point[0][0]\n",
    "df_build['위도'] = np_point[0][1]\n",
    "\n",
    "df_build['자치구']=df_build['주소'].apply(lambda e: e.split(' ')[1])"
   ]
  },
  {
   "cell_type": "code",
   "execution_count": 23,
   "metadata": {
    "scrolled": false
   },
   "outputs": [
    {
     "data": {
      "text/html": [
       "<div>\n",
       "<style scoped>\n",
       "    .dataframe tbody tr th:only-of-type {\n",
       "        vertical-align: middle;\n",
       "    }\n",
       "\n",
       "    .dataframe tbody tr th {\n",
       "        vertical-align: top;\n",
       "    }\n",
       "\n",
       "    .dataframe thead th {\n",
       "        text-align: right;\n",
       "    }\n",
       "</style>\n",
       "<table border=\"1\" class=\"dataframe\">\n",
       "  <thead>\n",
       "    <tr style=\"text-align: right;\">\n",
       "      <th></th>\n",
       "      <th>면적</th>\n",
       "      <th>외장재</th>\n",
       "      <th>이름</th>\n",
       "      <th>지상층수</th>\n",
       "      <th>허가일자</th>\n",
       "      <th>사용승인일자</th>\n",
       "      <th>주소</th>\n",
       "      <th>경도</th>\n",
       "      <th>위도</th>\n",
       "      <th>자치구</th>\n",
       "    </tr>\n",
       "  </thead>\n",
       "  <tbody>\n",
       "    <tr>\n",
       "      <th>0</th>\n",
       "      <td>0</td>\n",
       "      <td>벽돌구조</td>\n",
       "      <td>단독주택</td>\n",
       "      <td>2</td>\n",
       "      <td>19750204</td>\n",
       "      <td>19750204</td>\n",
       "      <td>서울특별시 종로구 평창동</td>\n",
       "      <td>126.977174</td>\n",
       "      <td>37.612459</td>\n",
       "      <td>종로구</td>\n",
       "    </tr>\n",
       "    <tr>\n",
       "      <th>2</th>\n",
       "      <td>0</td>\n",
       "      <td>벽돌구조</td>\n",
       "      <td>단독주택</td>\n",
       "      <td>2</td>\n",
       "      <td>19751001</td>\n",
       "      <td>19751001</td>\n",
       "      <td>서울특별시 종로구 홍지동</td>\n",
       "      <td>126.957007</td>\n",
       "      <td>37.602759</td>\n",
       "      <td>종로구</td>\n",
       "    </tr>\n",
       "    <tr>\n",
       "      <th>3</th>\n",
       "      <td>0</td>\n",
       "      <td>벽돌구조</td>\n",
       "      <td>제2종근린생활시설</td>\n",
       "      <td>2</td>\n",
       "      <td>19610901</td>\n",
       "      <td>19610901</td>\n",
       "      <td>서울특별시 종로구 누하동</td>\n",
       "      <td>126.968768</td>\n",
       "      <td>37.580249</td>\n",
       "      <td>종로구</td>\n",
       "    </tr>\n",
       "  </tbody>\n",
       "</table>\n",
       "</div>"
      ],
      "text/plain": [
       "   면적   외장재         이름  지상층수      허가일자    사용승인일자             주소          경도  \\\n",
       "0   0  벽돌구조       단독주택     2  19750204  19750204  서울특별시 종로구 평창동  126.977174   \n",
       "2   0  벽돌구조       단독주택     2  19751001  19751001  서울특별시 종로구 홍지동  126.957007   \n",
       "3   0  벽돌구조  제2종근린생활시설     2  19610901  19610901  서울특별시 종로구 누하동  126.968768   \n",
       "\n",
       "          위도  자치구  \n",
       "0  37.612459  종로구  \n",
       "2  37.602759  종로구  \n",
       "3  37.580249  종로구  "
      ]
     },
     "execution_count": 23,
     "metadata": {},
     "output_type": "execute_result"
    }
   ],
   "source": [
    "df_build.head(3)"
   ]
  },
  {
   "cell_type": "markdown",
   "metadata": {},
   "source": [
    "#### 화재 취약 외장재"
   ]
  },
  {
   "cell_type": "code",
   "execution_count": 24,
   "metadata": {},
   "outputs": [
    {
     "name": "stderr",
     "output_type": "stream",
     "text": [
      "C:\\Users\\LEEJUNGEUN\\Anaconda3\\lib\\site-packages\\ipykernel_launcher.py:7: SettingWithCopyWarning: \n",
      "A value is trying to be set on a copy of a slice from a DataFrame.\n",
      "Try using .loc[row_indexer,col_indexer] = value instead\n",
      "\n",
      "See the caveats in the documentation: http://pandas.pydata.org/pandas-docs/stable/indexing.html#indexing-view-versus-copy\n",
      "  import sys\n"
     ]
    },
    {
     "data": {
      "text/html": [
       "<div>\n",
       "<style scoped>\n",
       "    .dataframe tbody tr th:only-of-type {\n",
       "        vertical-align: middle;\n",
       "    }\n",
       "\n",
       "    .dataframe tbody tr th {\n",
       "        vertical-align: top;\n",
       "    }\n",
       "\n",
       "    .dataframe thead th {\n",
       "        text-align: right;\n",
       "    }\n",
       "</style>\n",
       "<table border=\"1\" class=\"dataframe\">\n",
       "  <thead>\n",
       "    <tr style=\"text-align: right;\">\n",
       "      <th></th>\n",
       "      <th>면적</th>\n",
       "      <th>외장재</th>\n",
       "      <th>이름</th>\n",
       "      <th>지상층수</th>\n",
       "      <th>허가일자</th>\n",
       "      <th>사용승인일자</th>\n",
       "      <th>주소</th>\n",
       "      <th>경도</th>\n",
       "      <th>위도</th>\n",
       "      <th>자치구</th>\n",
       "      <th>flag</th>\n",
       "    </tr>\n",
       "  </thead>\n",
       "  <tbody>\n",
       "    <tr>\n",
       "      <th>7</th>\n",
       "      <td>38</td>\n",
       "      <td>일반목구조</td>\n",
       "      <td>제2종근린생활시설</td>\n",
       "      <td>3</td>\n",
       "      <td>20070718</td>\n",
       "      <td>20080220</td>\n",
       "      <td>서울특별시 종로구 팔판동</td>\n",
       "      <td>126.980976</td>\n",
       "      <td>37.583510</td>\n",
       "      <td>종로구</td>\n",
       "      <td>외장재</td>\n",
       "    </tr>\n",
       "    <tr>\n",
       "      <th>32</th>\n",
       "      <td>49</td>\n",
       "      <td>일반목구조</td>\n",
       "      <td>제2종근린생활시설</td>\n",
       "      <td>3</td>\n",
       "      <td>20071130</td>\n",
       "      <td>20080509</td>\n",
       "      <td>서울특별시 종로구 팔판동</td>\n",
       "      <td>126.981111</td>\n",
       "      <td>37.583362</td>\n",
       "      <td>종로구</td>\n",
       "      <td>외장재</td>\n",
       "    </tr>\n",
       "    <tr>\n",
       "      <th>36</th>\n",
       "      <td>47</td>\n",
       "      <td>일반목구조</td>\n",
       "      <td>단독주택</td>\n",
       "      <td>1</td>\n",
       "      <td>20070904</td>\n",
       "      <td>20080529</td>\n",
       "      <td>서울특별시 종로구 계동</td>\n",
       "      <td>126.986999</td>\n",
       "      <td>37.582433</td>\n",
       "      <td>종로구</td>\n",
       "      <td>외장재</td>\n",
       "    </tr>\n",
       "  </tbody>\n",
       "</table>\n",
       "</div>"
      ],
      "text/plain": [
       "    면적    외장재         이름  지상층수      허가일자    사용승인일자             주소          경도  \\\n",
       "7   38  일반목구조  제2종근린생활시설     3  20070718  20080220  서울특별시 종로구 팔판동  126.980976   \n",
       "32  49  일반목구조  제2종근린생활시설     3  20071130  20080509  서울특별시 종로구 팔판동  126.981111   \n",
       "36  47  일반목구조       단독주택     1  20070904  20080529   서울특별시 종로구 계동  126.986999   \n",
       "\n",
       "           위도  자치구 flag  \n",
       "7   37.583510  종로구  외장재  \n",
       "32  37.583362  종로구  외장재  \n",
       "36  37.582433  종로구  외장재  "
      ]
     },
     "execution_count": 24,
     "metadata": {},
     "output_type": "execute_result"
    }
   ],
   "source": [
    "### 외장재 ###\n",
    "## 샌드위치패널이 주로 사용되는 공장&창고\n",
    "## 목조건축\n",
    "\n",
    "df_out = df_build[(df_build['이름']=='공장시설')|(df_build['이름']=='창고시설')|(df_build['외장재']=='일반목구조')]\n",
    "\n",
    "df_out['flag'] = '외장재'\n",
    "\n",
    "df_out.head(3)"
   ]
  },
  {
   "cell_type": "markdown",
   "metadata": {},
   "source": [
    "#### 스프링클러 미설치"
   ]
  },
  {
   "cell_type": "code",
   "execution_count": 25,
   "metadata": {
    "scrolled": true
   },
   "outputs": [
    {
     "data": {
      "text/html": [
       "<div>\n",
       "<style scoped>\n",
       "    .dataframe tbody tr th:only-of-type {\n",
       "        vertical-align: middle;\n",
       "    }\n",
       "\n",
       "    .dataframe tbody tr th {\n",
       "        vertical-align: top;\n",
       "    }\n",
       "\n",
       "    .dataframe thead th {\n",
       "        text-align: right;\n",
       "    }\n",
       "</style>\n",
       "<table border=\"1\" class=\"dataframe\">\n",
       "  <thead>\n",
       "    <tr style=\"text-align: right;\">\n",
       "      <th></th>\n",
       "      <th>면적</th>\n",
       "      <th>외장재</th>\n",
       "      <th>이름</th>\n",
       "      <th>지상층수</th>\n",
       "      <th>허가일자</th>\n",
       "      <th>사용승인일자</th>\n",
       "      <th>주소</th>\n",
       "      <th>경도</th>\n",
       "      <th>위도</th>\n",
       "      <th>자치구</th>\n",
       "      <th>flag</th>\n",
       "    </tr>\n",
       "  </thead>\n",
       "  <tbody>\n",
       "    <tr>\n",
       "      <th>0</th>\n",
       "      <td>0</td>\n",
       "      <td>벽돌구조</td>\n",
       "      <td>단독주택</td>\n",
       "      <td>2</td>\n",
       "      <td>19750204</td>\n",
       "      <td>19750204</td>\n",
       "      <td>서울특별시 종로구 평창동</td>\n",
       "      <td>126.977174</td>\n",
       "      <td>37.612459</td>\n",
       "      <td>종로구</td>\n",
       "      <td>스프링클러</td>\n",
       "    </tr>\n",
       "    <tr>\n",
       "      <th>2</th>\n",
       "      <td>0</td>\n",
       "      <td>벽돌구조</td>\n",
       "      <td>단독주택</td>\n",
       "      <td>2</td>\n",
       "      <td>19751001</td>\n",
       "      <td>19751001</td>\n",
       "      <td>서울특별시 종로구 홍지동</td>\n",
       "      <td>126.957007</td>\n",
       "      <td>37.602759</td>\n",
       "      <td>종로구</td>\n",
       "      <td>스프링클러</td>\n",
       "    </tr>\n",
       "    <tr>\n",
       "      <th>4</th>\n",
       "      <td>0</td>\n",
       "      <td>벽돌구조</td>\n",
       "      <td>단독주택</td>\n",
       "      <td>2</td>\n",
       "      <td>19831107</td>\n",
       "      <td>19840715</td>\n",
       "      <td>서울특별시 종로구 평창동</td>\n",
       "      <td>126.965434</td>\n",
       "      <td>37.611746</td>\n",
       "      <td>종로구</td>\n",
       "      <td>스프링클러</td>\n",
       "    </tr>\n",
       "  </tbody>\n",
       "</table>\n",
       "</div>"
      ],
      "text/plain": [
       "   면적   외장재    이름  지상층수      허가일자    사용승인일자             주소          경도  \\\n",
       "0   0  벽돌구조  단독주택     2  19750204  19750204  서울특별시 종로구 평창동  126.977174   \n",
       "2   0  벽돌구조  단독주택     2  19751001  19751001  서울특별시 종로구 홍지동  126.957007   \n",
       "4   0  벽돌구조  단독주택     2  19831107  19840715  서울특별시 종로구 평창동  126.965434   \n",
       "\n",
       "          위도  자치구   flag  \n",
       "0  37.612459  종로구  스프링클러  \n",
       "2  37.602759  종로구  스프링클러  \n",
       "4  37.611746  종로구  스프링클러  "
      ]
     },
     "execution_count": 25,
     "metadata": {},
     "output_type": "execute_result"
    }
   ],
   "source": [
    "### 스프링클러 ###\n",
    "## 필수설치건물제외\n",
    "## -> 문화집회 및 운동시설 / 영화상영관\n",
    "## 거의 연면적 600m2 이상\n",
    "## 다중이용시설물 -> 문화/집회/종교/판매/운수/의료/숙박\n",
    "## 단독주택 & 공동주택 6층 이상 건물\n",
    "## --> 면적 50m2 이하인 6층 이하 소규모 단독주택이 주로 스프링쿨러 설치가 안되어있을 것으로 예측\n",
    "\n",
    "df_sprinkler = df_build[df_build['면적']<600]\n",
    "\n",
    "use_list = ['단독주택', '숙박시설', '동.식물관련시설']\n",
    "\n",
    "df_sprinkler = df_sprinkler[df_sprinkler['이름'].isin(use_list)]\n",
    "\n",
    "df_sprinkler = df_sprinkler[(df_sprinkler['이름']=='단독주택')&(df_sprinkler['지상층수']<6)&(df_sprinkler['면적']<50)]\n",
    "\n",
    "df_sprinkler['flag'] = '스프링클러'\n",
    "\n",
    "df_sprinkler.head(3)"
   ]
  },
  {
   "cell_type": "markdown",
   "metadata": {},
   "source": [
    "#### 노후 건물"
   ]
  },
  {
   "cell_type": "code",
   "execution_count": 26,
   "metadata": {},
   "outputs": [
    {
     "name": "stderr",
     "output_type": "stream",
     "text": [
      "C:\\Users\\LEEJUNGEUN\\Anaconda3\\lib\\site-packages\\ipykernel_launcher.py:6: SettingWithCopyWarning: \n",
      "A value is trying to be set on a copy of a slice from a DataFrame.\n",
      "Try using .loc[row_indexer,col_indexer] = value instead\n",
      "\n",
      "See the caveats in the documentation: http://pandas.pydata.org/pandas-docs/stable/indexing.html#indexing-view-versus-copy\n",
      "  \n"
     ]
    },
    {
     "data": {
      "text/html": [
       "<div>\n",
       "<style scoped>\n",
       "    .dataframe tbody tr th:only-of-type {\n",
       "        vertical-align: middle;\n",
       "    }\n",
       "\n",
       "    .dataframe tbody tr th {\n",
       "        vertical-align: top;\n",
       "    }\n",
       "\n",
       "    .dataframe thead th {\n",
       "        text-align: right;\n",
       "    }\n",
       "</style>\n",
       "<table border=\"1\" class=\"dataframe\">\n",
       "  <thead>\n",
       "    <tr style=\"text-align: right;\">\n",
       "      <th></th>\n",
       "      <th>면적</th>\n",
       "      <th>외장재</th>\n",
       "      <th>이름</th>\n",
       "      <th>지상층수</th>\n",
       "      <th>허가일자</th>\n",
       "      <th>사용승인일자</th>\n",
       "      <th>주소</th>\n",
       "      <th>경도</th>\n",
       "      <th>위도</th>\n",
       "      <th>자치구</th>\n",
       "      <th>flag</th>\n",
       "    </tr>\n",
       "  </thead>\n",
       "  <tbody>\n",
       "    <tr>\n",
       "      <th>0</th>\n",
       "      <td>0</td>\n",
       "      <td>벽돌구조</td>\n",
       "      <td>단독주택</td>\n",
       "      <td>2</td>\n",
       "      <td>19750204</td>\n",
       "      <td>19750204</td>\n",
       "      <td>서울특별시 종로구 평창동</td>\n",
       "      <td>126.977174</td>\n",
       "      <td>37.612459</td>\n",
       "      <td>종로구</td>\n",
       "      <td>노후</td>\n",
       "    </tr>\n",
       "    <tr>\n",
       "      <th>2</th>\n",
       "      <td>0</td>\n",
       "      <td>벽돌구조</td>\n",
       "      <td>단독주택</td>\n",
       "      <td>2</td>\n",
       "      <td>19751001</td>\n",
       "      <td>19751001</td>\n",
       "      <td>서울특별시 종로구 홍지동</td>\n",
       "      <td>126.957007</td>\n",
       "      <td>37.602759</td>\n",
       "      <td>종로구</td>\n",
       "      <td>노후</td>\n",
       "    </tr>\n",
       "    <tr>\n",
       "      <th>3</th>\n",
       "      <td>0</td>\n",
       "      <td>벽돌구조</td>\n",
       "      <td>제2종근린생활시설</td>\n",
       "      <td>2</td>\n",
       "      <td>19610901</td>\n",
       "      <td>19610901</td>\n",
       "      <td>서울특별시 종로구 누하동</td>\n",
       "      <td>126.968768</td>\n",
       "      <td>37.580249</td>\n",
       "      <td>종로구</td>\n",
       "      <td>노후</td>\n",
       "    </tr>\n",
       "  </tbody>\n",
       "</table>\n",
       "</div>"
      ],
      "text/plain": [
       "   면적   외장재         이름  지상층수      허가일자    사용승인일자             주소          경도  \\\n",
       "0   0  벽돌구조       단독주택     2  19750204  19750204  서울특별시 종로구 평창동  126.977174   \n",
       "2   0  벽돌구조       단독주택     2  19751001  19751001  서울특별시 종로구 홍지동  126.957007   \n",
       "3   0  벽돌구조  제2종근린생활시설     2  19610901  19610901  서울특별시 종로구 누하동  126.968768   \n",
       "\n",
       "          위도  자치구 flag  \n",
       "0  37.612459  종로구   노후  \n",
       "2  37.602759  종로구   노후  \n",
       "3  37.580249  종로구   노후  "
      ]
     },
     "execution_count": 26,
     "metadata": {},
     "output_type": "execute_result"
    }
   ],
   "source": [
    "### 노후 건물 ###\n",
    "## ~ 1979년 모든 건물 (40년 이상 된 건물)\n",
    "\n",
    "df_old = df_build[(df_build['허가일자']<19781231)]\n",
    "\n",
    "df_old['flag'] = '노후'\n",
    "\n",
    "df_old.head(3)"
   ]
  },
  {
   "cell_type": "markdown",
   "metadata": {},
   "source": [
    "#### 화재 취약지역"
   ]
  },
  {
   "cell_type": "code",
   "execution_count": 34,
   "metadata": {},
   "outputs": [],
   "source": [
    "df_weak = pd.concat([df_out, df_sprinkler, df_old])\n",
    "df_weak = df_weak[['이름', '위도', '경도', '자치구', 'flag']]"
   ]
  },
  {
   "cell_type": "code",
   "execution_count": 36,
   "metadata": {},
   "outputs": [
    {
     "data": {
      "text/html": [
       "<div>\n",
       "<style scoped>\n",
       "    .dataframe tbody tr th:only-of-type {\n",
       "        vertical-align: middle;\n",
       "    }\n",
       "\n",
       "    .dataframe tbody tr th {\n",
       "        vertical-align: top;\n",
       "    }\n",
       "\n",
       "    .dataframe thead th {\n",
       "        text-align: right;\n",
       "    }\n",
       "</style>\n",
       "<table border=\"1\" class=\"dataframe\">\n",
       "  <thead>\n",
       "    <tr style=\"text-align: right;\">\n",
       "      <th></th>\n",
       "      <th>이름</th>\n",
       "      <th>위도</th>\n",
       "      <th>경도</th>\n",
       "      <th>자치구</th>\n",
       "      <th>flag</th>\n",
       "    </tr>\n",
       "  </thead>\n",
       "  <tbody>\n",
       "    <tr>\n",
       "      <th>7</th>\n",
       "      <td>제2종근린생활시설</td>\n",
       "      <td>37.583510</td>\n",
       "      <td>126.980976</td>\n",
       "      <td>종로구</td>\n",
       "      <td>외장재</td>\n",
       "    </tr>\n",
       "    <tr>\n",
       "      <th>32</th>\n",
       "      <td>제2종근린생활시설</td>\n",
       "      <td>37.583362</td>\n",
       "      <td>126.981111</td>\n",
       "      <td>종로구</td>\n",
       "      <td>외장재</td>\n",
       "    </tr>\n",
       "    <tr>\n",
       "      <th>36</th>\n",
       "      <td>단독주택</td>\n",
       "      <td>37.582433</td>\n",
       "      <td>126.986999</td>\n",
       "      <td>종로구</td>\n",
       "      <td>외장재</td>\n",
       "    </tr>\n",
       "  </tbody>\n",
       "</table>\n",
       "</div>"
      ],
      "text/plain": [
       "           이름         위도          경도  자치구 flag\n",
       "7   제2종근린생활시설  37.583510  126.980976  종로구  외장재\n",
       "32  제2종근린생활시설  37.583362  126.981111  종로구  외장재\n",
       "36       단독주택  37.582433  126.986999  종로구  외장재"
      ]
     },
     "execution_count": 36,
     "metadata": {},
     "output_type": "execute_result"
    }
   ],
   "source": [
    "df_weak.head(3)"
   ]
  },
  {
   "cell_type": "markdown",
   "metadata": {},
   "source": [
    "### 최종 파일"
   ]
  },
  {
   "cell_type": "code",
   "execution_count": 37,
   "metadata": {},
   "outputs": [],
   "source": [
    "df_area = pd.concat([df_firesafe, df_street, df_weak])"
   ]
  },
  {
   "cell_type": "code",
   "execution_count": 38,
   "metadata": {},
   "outputs": [
    {
     "data": {
      "text/html": [
       "<div>\n",
       "<style scoped>\n",
       "    .dataframe tbody tr th:only-of-type {\n",
       "        vertical-align: middle;\n",
       "    }\n",
       "\n",
       "    .dataframe tbody tr th {\n",
       "        vertical-align: top;\n",
       "    }\n",
       "\n",
       "    .dataframe thead th {\n",
       "        text-align: right;\n",
       "    }\n",
       "</style>\n",
       "<table border=\"1\" class=\"dataframe\">\n",
       "  <thead>\n",
       "    <tr style=\"text-align: right;\">\n",
       "      <th></th>\n",
       "      <th>이름</th>\n",
       "      <th>위도</th>\n",
       "      <th>경도</th>\n",
       "      <th>자치구</th>\n",
       "      <th>flag</th>\n",
       "    </tr>\n",
       "  </thead>\n",
       "  <tbody>\n",
       "    <tr>\n",
       "      <th>0</th>\n",
       "      <td>영등포소방서</td>\n",
       "      <td>37.520641</td>\n",
       "      <td>126.913924</td>\n",
       "      <td>영등포구</td>\n",
       "      <td>소방서</td>\n",
       "    </tr>\n",
       "    <tr>\n",
       "      <th>1</th>\n",
       "      <td>동대문소방서</td>\n",
       "      <td>37.583794</td>\n",
       "      <td>127.050688</td>\n",
       "      <td>동대문구</td>\n",
       "      <td>소방서</td>\n",
       "    </tr>\n",
       "    <tr>\n",
       "      <th>2</th>\n",
       "      <td>용산소방서</td>\n",
       "      <td>37.531106</td>\n",
       "      <td>126.980942</td>\n",
       "      <td>용산구</td>\n",
       "      <td>소방서</td>\n",
       "    </tr>\n",
       "  </tbody>\n",
       "</table>\n",
       "</div>"
      ],
      "text/plain": [
       "       이름         위도          경도   자치구 flag\n",
       "0  영등포소방서  37.520641  126.913924  영등포구  소방서\n",
       "1  동대문소방서  37.583794  127.050688  동대문구  소방서\n",
       "2   용산소방서  37.531106  126.980942   용산구  소방서"
      ]
     },
     "execution_count": 38,
     "metadata": {},
     "output_type": "execute_result"
    }
   ],
   "source": [
    "df_area.head(3)"
   ]
  },
  {
   "cell_type": "code",
   "execution_count": 48,
   "metadata": {},
   "outputs": [],
   "source": [
    "df_area.to_csv('df_area.csv', encoding='ms949', header=True, index=False)"
   ]
  },
  {
   "cell_type": "code",
   "execution_count": 52,
   "metadata": {},
   "outputs": [
    {
     "data": {
      "text/plain": [
       "이름       object\n",
       "위도      float64\n",
       "경도      float64\n",
       "자치구      object\n",
       "flag     object\n",
       "dtype: object"
      ]
     },
     "execution_count": 52,
     "metadata": {},
     "output_type": "execute_result"
    }
   ],
   "source": [
    "df_area.dtypes"
   ]
  },
  {
   "cell_type": "code",
   "execution_count": null,
   "metadata": {},
   "outputs": [],
   "source": []
  }
 ],
 "metadata": {
  "kernelspec": {
   "display_name": "Python 3",
   "language": "python",
   "name": "python3"
  },
  "language_info": {
   "codemirror_mode": {
    "name": "ipython",
    "version": 3
   },
   "file_extension": ".py",
   "mimetype": "text/x-python",
   "name": "python",
   "nbconvert_exporter": "python",
   "pygments_lexer": "ipython3",
   "version": "3.7.1"
  }
 },
 "nbformat": 4,
 "nbformat_minor": 2
}
