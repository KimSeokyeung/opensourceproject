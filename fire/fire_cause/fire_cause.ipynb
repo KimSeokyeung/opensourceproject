{
 "cells": [
  {
   "cell_type": "code",
   "execution_count": 1,
   "metadata": {},
   "outputs": [],
   "source": [
    "import pandas as pd\n",
    "pd.set_option('display.max_columns', None)"
   ]
  },
  {
   "cell_type": "code",
   "execution_count": 2,
   "metadata": {},
   "outputs": [],
   "source": [
    "df_gu=pd.read_csv(\"gu_long_lat.csv\")\n",
    "df_gu=df_gu.drop(df_gu.columns[[0,1,3,4]],axis=1) #구의 좌표\n",
    "df_gu=df_gu.rename(columns={'시군구명_한글':'자치구'})\n",
    "\n",
    "df_ca=pd.read_csv(\"fire_cause.csv\",encoding=\"cp949\") #구별 화재요인\n",
    "df_ca=df_ca.replace('-',0)\n",
    "df_ca=df_ca.drop(df_ca.columns[0],axis=1)"
   ]
  },
  {
   "cell_type": "code",
   "execution_count": 3,
   "metadata": {},
   "outputs": [],
   "source": [
    "df_ca['실화합계']=df_ca['실화_전기적요인'].astype(int)+df_ca['실화_기계적요인'].astype(int)+df_ca['실화_화학적요인'].astype(int)+df_ca['실화_가스누출(폭발)'].astype(int)+df_ca['실화_교통사고'].astype(int)+df_ca['실화_부주의'].astype(int)+df_ca['실화_기타'].astype(int)"
   ]
  },
  {
   "cell_type": "code",
   "execution_count": 9,
   "metadata": {
    "scrolled": true
   },
   "outputs": [
    {
     "data": {
      "text/html": [
       "<div>\n",
       "<style scoped>\n",
       "    .dataframe tbody tr th:only-of-type {\n",
       "        vertical-align: middle;\n",
       "    }\n",
       "\n",
       "    .dataframe tbody tr th {\n",
       "        vertical-align: top;\n",
       "    }\n",
       "\n",
       "    .dataframe thead th {\n",
       "        text-align: right;\n",
       "    }\n",
       "</style>\n",
       "<table border=\"1\" class=\"dataframe\">\n",
       "  <thead>\n",
       "    <tr style=\"text-align: right;\">\n",
       "      <th></th>\n",
       "      <th>자치구</th>\n",
       "      <th>합계</th>\n",
       "      <th>실화_전기적요인</th>\n",
       "      <th>실화_기계적요인</th>\n",
       "      <th>실화_화학적요인</th>\n",
       "      <th>실화_가스누출(폭발)</th>\n",
       "      <th>실화_교통사고</th>\n",
       "      <th>실화_부주의</th>\n",
       "      <th>실화_기타</th>\n",
       "      <th>자연적인요인</th>\n",
       "      <th>방화명확</th>\n",
       "      <th>방화의심</th>\n",
       "      <th>발화요인(미상)</th>\n",
       "      <th>실화합계</th>\n",
       "    </tr>\n",
       "  </thead>\n",
       "  <tbody>\n",
       "    <tr>\n",
       "      <th>0</th>\n",
       "      <td>종로구</td>\n",
       "      <td>254</td>\n",
       "      <td>65</td>\n",
       "      <td>8</td>\n",
       "      <td>2</td>\n",
       "      <td>1</td>\n",
       "      <td>2</td>\n",
       "      <td>137</td>\n",
       "      <td>4</td>\n",
       "      <td>1</td>\n",
       "      <td>6</td>\n",
       "      <td>1</td>\n",
       "      <td>27</td>\n",
       "      <td>219</td>\n",
       "    </tr>\n",
       "    <tr>\n",
       "      <th>1</th>\n",
       "      <td>중구</td>\n",
       "      <td>275</td>\n",
       "      <td>70</td>\n",
       "      <td>26</td>\n",
       "      <td>1</td>\n",
       "      <td>1</td>\n",
       "      <td>0</td>\n",
       "      <td>146</td>\n",
       "      <td>0</td>\n",
       "      <td>0</td>\n",
       "      <td>4</td>\n",
       "      <td>3</td>\n",
       "      <td>24</td>\n",
       "      <td>244</td>\n",
       "    </tr>\n",
       "    <tr>\n",
       "      <th>2</th>\n",
       "      <td>용산구</td>\n",
       "      <td>211</td>\n",
       "      <td>42</td>\n",
       "      <td>13</td>\n",
       "      <td>0</td>\n",
       "      <td>2</td>\n",
       "      <td>2</td>\n",
       "      <td>106</td>\n",
       "      <td>0</td>\n",
       "      <td>0</td>\n",
       "      <td>2</td>\n",
       "      <td>3</td>\n",
       "      <td>41</td>\n",
       "      <td>165</td>\n",
       "    </tr>\n",
       "    <tr>\n",
       "      <th>3</th>\n",
       "      <td>성동구</td>\n",
       "      <td>212</td>\n",
       "      <td>50</td>\n",
       "      <td>13</td>\n",
       "      <td>5</td>\n",
       "      <td>0</td>\n",
       "      <td>4</td>\n",
       "      <td>113</td>\n",
       "      <td>1</td>\n",
       "      <td>0</td>\n",
       "      <td>1</td>\n",
       "      <td>0</td>\n",
       "      <td>25</td>\n",
       "      <td>186</td>\n",
       "    </tr>\n",
       "    <tr>\n",
       "      <th>4</th>\n",
       "      <td>광진구</td>\n",
       "      <td>203</td>\n",
       "      <td>41</td>\n",
       "      <td>9</td>\n",
       "      <td>2</td>\n",
       "      <td>1</td>\n",
       "      <td>0</td>\n",
       "      <td>121</td>\n",
       "      <td>1</td>\n",
       "      <td>0</td>\n",
       "      <td>1</td>\n",
       "      <td>1</td>\n",
       "      <td>26</td>\n",
       "      <td>175</td>\n",
       "    </tr>\n",
       "  </tbody>\n",
       "</table>\n",
       "</div>"
      ],
      "text/plain": [
       "   자치구   합계  실화_전기적요인  실화_기계적요인 실화_화학적요인 실화_가스누출(폭발) 실화_교통사고  실화_부주의 실화_기타  \\\n",
       "0  종로구  254        65         8        2           1       2     137     4   \n",
       "1   중구  275        70        26        1           1       0     146     0   \n",
       "2  용산구  211        42        13        0           2       2     106     0   \n",
       "3  성동구  212        50        13        5           0       4     113     1   \n",
       "4  광진구  203        41         9        2           1       0     121     1   \n",
       "\n",
       "  자연적인요인 방화명확 방화의심  발화요인(미상)  실화합계  \n",
       "0      1    6    1        27   219  \n",
       "1      0    4    3        24   244  \n",
       "2      0    2    3        41   165  \n",
       "3      0    1    0        25   186  \n",
       "4      0    1    1        26   175  "
      ]
     },
     "execution_count": 9,
     "metadata": {},
     "output_type": "execute_result"
    }
   ],
   "source": [
    "df_ca.head()"
   ]
  },
  {
   "cell_type": "code",
   "execution_count": 10,
   "metadata": {},
   "outputs": [],
   "source": [
    "df_ca_plus = pd.merge(df_ca,df_gu,how='left',on='자치구')"
   ]
  },
  {
   "cell_type": "code",
   "execution_count": 11,
   "metadata": {},
   "outputs": [],
   "source": [
    "df_ca_plus.to_csv(\"df_cause.csv\",encoding='cp949',index=False)"
   ]
  }
 ],
 "metadata": {
  "kernelspec": {
   "display_name": "Python 3",
   "language": "python",
   "name": "python3"
  },
  "language_info": {
   "codemirror_mode": {
    "name": "ipython",
    "version": 3
   },
   "file_extension": ".py",
   "mimetype": "text/x-python",
   "name": "python",
   "nbconvert_exporter": "python",
   "pygments_lexer": "ipython3",
   "version": "3.7.3"
  }
 },
 "nbformat": 4,
 "nbformat_minor": 2
}
