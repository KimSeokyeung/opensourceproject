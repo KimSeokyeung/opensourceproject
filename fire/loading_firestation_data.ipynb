{
 "cells": [
  {
   "cell_type": "code",
   "execution_count": 1,
   "metadata": {},
   "outputs": [],
   "source": [
    "import pandas as pd"
   ]
  },
  {
   "cell_type": "code",
   "execution_count": 2,
   "metadata": {},
   "outputs": [],
   "source": [
    "df_st=pd.read_csv(\"firestation_center.csv\",encoding=\"cp949\")\n",
    "df_gu=pd.read_csv(\"fire_gu_col.csv\",encoding=\"cp949\")"
   ]
  },
  {
   "cell_type": "code",
   "execution_count": 3,
   "metadata": {
    "scrolled": true
   },
   "outputs": [],
   "source": [
    "df_st=df_st.drop(df_st.columns[0],axis=1)\n",
    "df_st=df_st[df_st['서소코드'].str.startswith(('7','8','9'))]"
   ]
  },
  {
   "cell_type": "code",
   "execution_count": 4,
   "metadata": {
    "scrolled": true
   },
   "outputs": [
    {
     "data": {
      "text/html": [
       "<div>\n",
       "<style scoped>\n",
       "    .dataframe tbody tr th:only-of-type {\n",
       "        vertical-align: middle;\n",
       "    }\n",
       "\n",
       "    .dataframe tbody tr th {\n",
       "        vertical-align: top;\n",
       "    }\n",
       "\n",
       "    .dataframe thead th {\n",
       "        text-align: right;\n",
       "    }\n",
       "</style>\n",
       "<table border=\"1\" class=\"dataframe\">\n",
       "  <thead>\n",
       "    <tr style=\"text-align: right;\">\n",
       "      <th></th>\n",
       "      <th>서소코드</th>\n",
       "      <th>서소이름</th>\n",
       "      <th>위도</th>\n",
       "      <th>경도</th>\n",
       "    </tr>\n",
       "  </thead>\n",
       "  <tbody>\n",
       "    <tr>\n",
       "      <th>255</th>\n",
       "      <td>77236</td>\n",
       "      <td>성북소방서</td>\n",
       "      <td>37.602362</td>\n",
       "      <td>127.031667</td>\n",
       "    </tr>\n",
       "    <tr>\n",
       "      <th>256</th>\n",
       "      <td>85253</td>\n",
       "      <td>구로119안전센터</td>\n",
       "      <td>37.494224</td>\n",
       "      <td>126.882575</td>\n",
       "    </tr>\n",
       "    <tr>\n",
       "      <th>257</th>\n",
       "      <td>81251</td>\n",
       "      <td>화곡119안전센터</td>\n",
       "      <td>37.543647</td>\n",
       "      <td>126.845254</td>\n",
       "    </tr>\n",
       "  </tbody>\n",
       "</table>\n",
       "</div>"
      ],
      "text/plain": [
       "      서소코드       서소이름         위도          경도\n",
       "255  77236      성북소방서  37.602362  127.031667\n",
       "256  85253  구로119안전센터  37.494224  126.882575\n",
       "257  81251  화곡119안전센터  37.543647  126.845254"
      ]
     },
     "execution_count": 4,
     "metadata": {},
     "output_type": "execute_result"
    }
   ],
   "source": [
    "df_st.tail(3)"
   ]
  },
  {
   "cell_type": "code",
   "execution_count": 5,
   "metadata": {
    "scrolled": true
   },
   "outputs": [
    {
     "data": {
      "text/html": [
       "<div>\n",
       "<style scoped>\n",
       "    .dataframe tbody tr th:only-of-type {\n",
       "        vertical-align: middle;\n",
       "    }\n",
       "\n",
       "    .dataframe tbody tr th {\n",
       "        vertical-align: top;\n",
       "    }\n",
       "\n",
       "    .dataframe thead th {\n",
       "        text-align: right;\n",
       "    }\n",
       "</style>\n",
       "<table border=\"1\" class=\"dataframe\">\n",
       "  <thead>\n",
       "    <tr style=\"text-align: right;\">\n",
       "      <th></th>\n",
       "      <th>자치구</th>\n",
       "      <th>발생_합계</th>\n",
       "      <th>발생_실화</th>\n",
       "      <th>발생_방화</th>\n",
       "      <th>발생_기타</th>\n",
       "      <th>소실_동수</th>\n",
       "      <th>소실_이재가구수</th>\n",
       "      <th>소실_면적</th>\n",
       "      <th>피해액_합계</th>\n",
       "      <th>피해액_부동산</th>\n",
       "      <th>피해액_동산</th>\n",
       "      <th>재산피해경감액</th>\n",
       "      <th>인명피해_합계</th>\n",
       "      <th>인명피해_사망</th>\n",
       "      <th>인명피해_부상</th>\n",
       "      <th>이재민수</th>\n",
       "      <th>구조인원</th>\n",
       "    </tr>\n",
       "  </thead>\n",
       "  <tbody>\n",
       "    <tr>\n",
       "      <th>22</th>\n",
       "      <td>강남구</td>\n",
       "      <td>436</td>\n",
       "      <td>399</td>\n",
       "      <td>7</td>\n",
       "      <td>30</td>\n",
       "      <td>134</td>\n",
       "      <td>1</td>\n",
       "      <td>1,631</td>\n",
       "      <td>1,624,983</td>\n",
       "      <td>670,429</td>\n",
       "      <td>954,554</td>\n",
       "      <td>87,651,462</td>\n",
       "      <td>23</td>\n",
       "      <td>0</td>\n",
       "      <td>23</td>\n",
       "      <td>1</td>\n",
       "      <td>36</td>\n",
       "    </tr>\n",
       "    <tr>\n",
       "      <th>23</th>\n",
       "      <td>송파구</td>\n",
       "      <td>340</td>\n",
       "      <td>301</td>\n",
       "      <td>7</td>\n",
       "      <td>32</td>\n",
       "      <td>84</td>\n",
       "      <td>16</td>\n",
       "      <td>2,717</td>\n",
       "      <td>970,251</td>\n",
       "      <td>390,994</td>\n",
       "      <td>579,257</td>\n",
       "      <td>16,546,317</td>\n",
       "      <td>28</td>\n",
       "      <td>0</td>\n",
       "      <td>28</td>\n",
       "      <td>42</td>\n",
       "      <td>99</td>\n",
       "    </tr>\n",
       "    <tr>\n",
       "      <th>24</th>\n",
       "      <td>강동구</td>\n",
       "      <td>324</td>\n",
       "      <td>297</td>\n",
       "      <td>14</td>\n",
       "      <td>13</td>\n",
       "      <td>59</td>\n",
       "      <td>8</td>\n",
       "      <td>3,358</td>\n",
       "      <td>540,625</td>\n",
       "      <td>236,181</td>\n",
       "      <td>304,444</td>\n",
       "      <td>7,235,347</td>\n",
       "      <td>19</td>\n",
       "      <td>4</td>\n",
       "      <td>15</td>\n",
       "      <td>19</td>\n",
       "      <td>26</td>\n",
       "    </tr>\n",
       "  </tbody>\n",
       "</table>\n",
       "</div>"
      ],
      "text/plain": [
       "    자치구  발생_합계  발생_실화  발생_방화  발생_기타  소실_동수  소실_이재가구수  소실_면적     피해액_합계  \\\n",
       "22  강남구    436    399      7     30    134         1  1,631  1,624,983   \n",
       "23  송파구    340    301      7     32     84        16  2,717    970,251   \n",
       "24  강동구    324    297     14     13     59         8  3,358    540,625   \n",
       "\n",
       "    피해액_부동산   피해액_동산     재산피해경감액  인명피해_합계  인명피해_사망  인명피해_부상  이재민수  구조인원  \n",
       "22  670,429  954,554  87,651,462       23        0       23     1    36  \n",
       "23  390,994  579,257  16,546,317       28        0       28    42    99  \n",
       "24  236,181  304,444   7,235,347       19        4       15    19    26  "
      ]
     },
     "execution_count": 5,
     "metadata": {},
     "output_type": "execute_result"
    }
   ],
   "source": [
    "df_gu=df_gu.drop(df_gu.columns[[0,1]],axis=1)\n",
    "df_gu.tail(3)"
   ]
  }
 ],
 "metadata": {
  "kernelspec": {
   "display_name": "Python 3",
   "language": "python",
   "name": "python3"
  },
  "language_info": {
   "codemirror_mode": {
    "name": "ipython",
    "version": 3
   },
   "file_extension": ".py",
   "mimetype": "text/x-python",
   "name": "python",
   "nbconvert_exporter": "python",
   "pygments_lexer": "ipython3",
   "version": "3.7.3"
  }
 },
 "nbformat": 4,
 "nbformat_minor": 2
}
